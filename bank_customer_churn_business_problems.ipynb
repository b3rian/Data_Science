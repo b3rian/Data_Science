{
 "cells": [
  {
   "cell_type": "code",
   "execution_count": 1,
   "metadata": {},
   "outputs": [],
   "source": [
    "import pandas as pd\n",
    "import numpy as np\n",
    "import matplotlib.pyplot as plt\n",
    "import seaborn as sns"
   ]
  },
  {
   "cell_type": "code",
   "execution_count": null,
   "metadata": {},
   "outputs": [],
   "source": [
    "# Import and Load the dataset\n",
    "bank_churn_df = pd.read_csv('cleanned_bank_customer.csv')\n"
   ]
  },
  {
   "cell_type": "markdown",
   "metadata": {},
   "source": [
    "# Business Problem Analysis\n",
    "1) What attributes are more common among churners than non-churners? Can churn be predicted using the variables in the data?\n",
    "2) What do the overall demographics of the bank's customers look like?\n",
    "3) Is there a difference between German, French, and Spanish customers in terms of account behavior?\n",
    "4) What types of segments exist within the bank's customers?"
   ]
  },
  {
   "cell_type": "code",
   "execution_count": 18,
   "metadata": {},
   "outputs": [
    {
     "data": {
      "text/html": [
       "<div>\n",
       "<style scoped>\n",
       "    .dataframe tbody tr th:only-of-type {\n",
       "        vertical-align: middle;\n",
       "    }\n",
       "\n",
       "    .dataframe tbody tr th {\n",
       "        vertical-align: top;\n",
       "    }\n",
       "\n",
       "    .dataframe thead th {\n",
       "        text-align: right;\n",
       "    }\n",
       "</style>\n",
       "<table border=\"1\" class=\"dataframe\">\n",
       "  <thead>\n",
       "    <tr style=\"text-align: right;\">\n",
       "      <th>Exited</th>\n",
       "      <th>0</th>\n",
       "      <th>1</th>\n",
       "      <th>Diff</th>\n",
       "    </tr>\n",
       "  </thead>\n",
       "  <tbody>\n",
       "    <tr>\n",
       "      <th>Balance</th>\n",
       "      <td>7.274530e+04</td>\n",
       "      <td>9.110854e+04</td>\n",
       "      <td>18363.242558</td>\n",
       "    </tr>\n",
       "    <tr>\n",
       "      <th>EstimatedSalary</th>\n",
       "      <td>9.973131e+04</td>\n",
       "      <td>1.014657e+05</td>\n",
       "      <td>1734.365308</td>\n",
       "    </tr>\n",
       "    <tr>\n",
       "      <th>Age</th>\n",
       "      <td>3.740839e+01</td>\n",
       "      <td>4.483800e+01</td>\n",
       "      <td>7.429608</td>\n",
       "    </tr>\n",
       "    <tr>\n",
       "      <th>NumOfProducts</th>\n",
       "      <td>1.544267e+00</td>\n",
       "      <td>1.475209e+00</td>\n",
       "      <td>-0.069059</td>\n",
       "    </tr>\n",
       "    <tr>\n",
       "      <th>Tenure</th>\n",
       "      <td>5.033279e+00</td>\n",
       "      <td>4.932744e+00</td>\n",
       "      <td>-0.100535</td>\n",
       "    </tr>\n",
       "    <tr>\n",
       "      <th>HasCrCard</th>\n",
       "      <td>5.545649e-01</td>\n",
       "      <td>3.608247e-01</td>\n",
       "      <td>-0.193740</td>\n",
       "    </tr>\n",
       "    <tr>\n",
       "      <th>IsActiveMember</th>\n",
       "      <td>5.545649e-01</td>\n",
       "      <td>3.608247e-01</td>\n",
       "      <td>-0.193740</td>\n",
       "    </tr>\n",
       "    <tr>\n",
       "      <th>CreditScore</th>\n",
       "      <td>6.518532e+02</td>\n",
       "      <td>6.453515e+02</td>\n",
       "      <td>-6.501699</td>\n",
       "    </tr>\n",
       "    <tr>\n",
       "      <th>Unnamed: 0</th>\n",
       "      <td>5.023695e+03</td>\n",
       "      <td>4.904918e+03</td>\n",
       "      <td>-118.777438</td>\n",
       "    </tr>\n",
       "    <tr>\n",
       "      <th>CustomerId</th>\n",
       "      <td>1.569117e+07</td>\n",
       "      <td>1.569005e+07</td>\n",
       "      <td>-1115.917049</td>\n",
       "    </tr>\n",
       "  </tbody>\n",
       "</table>\n",
       "</div>"
      ],
      "text/plain": [
       "Exited                      0             1          Diff\n",
       "Balance          7.274530e+04  9.110854e+04  18363.242558\n",
       "EstimatedSalary  9.973131e+04  1.014657e+05   1734.365308\n",
       "Age              3.740839e+01  4.483800e+01      7.429608\n",
       "NumOfProducts    1.544267e+00  1.475209e+00     -0.069059\n",
       "Tenure           5.033279e+00  4.932744e+00     -0.100535\n",
       "HasCrCard        5.545649e-01  3.608247e-01     -0.193740\n",
       "IsActiveMember   5.545649e-01  3.608247e-01     -0.193740\n",
       "CreditScore      6.518532e+02  6.453515e+02     -6.501699\n",
       "Unnamed: 0       5.023695e+03  4.904918e+03   -118.777438\n",
       "CustomerId       1.569117e+07  1.569005e+07  -1115.917049"
      ]
     },
     "execution_count": 18,
     "metadata": {},
     "output_type": "execute_result"
    }
   ],
   "source": [
    "# Compare Means for Numerical Features\n",
    "churn_compare = bank_churn_df.groupby('Exited').mean(numeric_only = True).T\n",
    "churn_compare['Diff'] = churn_compare[1] - churn_compare[0]\n",
    "churn_compare.sort_values('Diff', ascending=False)"
   ]
  },
  {
   "cell_type": "code",
   "execution_count": 20,
   "metadata": {},
   "outputs": [
    {
     "data": {
      "image/png": "[encoded data removed]",
      "text/plain": [
       "<Figure size 1000x600 with 1 Axes>"
      ]
     },
     "metadata": {},
     "output_type": "display_data"
    }
   ],
   "source": [
    "plt.figure(figsize=(10,6))\n",
    "sns.countplot(data=bank_churn_df, x='NumOfProducts', hue='Geography', palette='Set1')\n",
    "plt.title('Number of Bank Products by Country')\n",
    "plt.show()\n",
    "\n",
    " "
   ]
  },
  {
   "cell_type": "code",
   "execution_count": 11,
   "metadata": {},
   "outputs": [
    {
     "data": {
      "text/html": [
       "<div>\n",
       "<style scoped>\n",
       "    .dataframe tbody tr th:only-of-type {\n",
       "        vertical-align: middle;\n",
       "    }\n",
       "\n",
       "    .dataframe tbody tr th {\n",
       "        vertical-align: top;\n",
       "    }\n",
       "\n",
       "    .dataframe thead th {\n",
       "        text-align: right;\n",
       "    }\n",
       "</style>\n",
       "<table border=\"1\" class=\"dataframe\">\n",
       "  <thead>\n",
       "    <tr style=\"text-align: right;\">\n",
       "      <th></th>\n",
       "      <th>Unnamed: 0</th>\n",
       "      <th>CustomerId</th>\n",
       "      <th>Surname</th>\n",
       "      <th>CreditScore</th>\n",
       "      <th>Geography</th>\n",
       "      <th>Gender</th>\n",
       "      <th>Age</th>\n",
       "      <th>EstimatedSalary</th>\n",
       "      <th>Balance</th>\n",
       "      <th>NumOfProducts</th>\n",
       "      <th>HasCrCard</th>\n",
       "      <th>Tenure</th>\n",
       "      <th>IsActiveMember</th>\n",
       "      <th>Exited</th>\n",
       "    </tr>\n",
       "  </thead>\n",
       "  <tbody>\n",
       "    <tr>\n",
       "      <th>0</th>\n",
       "      <td>0</td>\n",
       "      <td>15634602</td>\n",
       "      <td>Hargrave</td>\n",
       "      <td>619</td>\n",
       "      <td>France</td>\n",
       "      <td>Female</td>\n",
       "      <td>42</td>\n",
       "      <td>101348.88</td>\n",
       "      <td>0.00</td>\n",
       "      <td>1</td>\n",
       "      <td>1</td>\n",
       "      <td>2</td>\n",
       "      <td>1</td>\n",
       "      <td>1</td>\n",
       "    </tr>\n",
       "    <tr>\n",
       "      <th>1</th>\n",
       "      <td>1</td>\n",
       "      <td>15647311</td>\n",
       "      <td>Hill</td>\n",
       "      <td>608</td>\n",
       "      <td>Spain</td>\n",
       "      <td>Female</td>\n",
       "      <td>41</td>\n",
       "      <td>112542.58</td>\n",
       "      <td>83807.86</td>\n",
       "      <td>1</td>\n",
       "      <td>1</td>\n",
       "      <td>1</td>\n",
       "      <td>1</td>\n",
       "      <td>0</td>\n",
       "    </tr>\n",
       "    <tr>\n",
       "      <th>2</th>\n",
       "      <td>2</td>\n",
       "      <td>15619304</td>\n",
       "      <td>Onio</td>\n",
       "      <td>502</td>\n",
       "      <td>France</td>\n",
       "      <td>Female</td>\n",
       "      <td>42</td>\n",
       "      <td>113931.57</td>\n",
       "      <td>159660.80</td>\n",
       "      <td>3</td>\n",
       "      <td>0</td>\n",
       "      <td>8</td>\n",
       "      <td>0</td>\n",
       "      <td>1</td>\n",
       "    </tr>\n",
       "  </tbody>\n",
       "</table>\n",
       "</div>"
      ],
      "text/plain": [
       "   Unnamed: 0  CustomerId   Surname  CreditScore Geography  Gender  Age  \\\n",
       "0           0    15634602  Hargrave          619    France  Female   42   \n",
       "1           1    15647311      Hill          608     Spain  Female   41   \n",
       "2           2    15619304      Onio          502    France  Female   42   \n",
       "\n",
       "   EstimatedSalary    Balance  NumOfProducts  HasCrCard  Tenure  \\\n",
       "0        101348.88       0.00              1          1       2   \n",
       "1        112542.58   83807.86              1          1       1   \n",
       "2        113931.57  159660.80              3          0       8   \n",
       "\n",
       "   IsActiveMember  Exited  \n",
       "0               1       1  \n",
       "1               1       0  \n",
       "2               0       1  "
      ]
     },
     "execution_count": 11,
     "metadata": {},
     "output_type": "execute_result"
    }
   ],
   "source": [
    "bank_churn_df.head(3)"
   ]
  },
  {
   "cell_type": "markdown",
   "metadata": {},
   "source": [
    "# Key Insights:\n",
    "- Age, Balance, and Activity Status are the strongest indicators of churn.\n",
    "- Churners are older, have higher balances, and are less active.\n",
    "- Fewer churners have credit cards and fewer products, suggesting lower engagement with the bank's services.\n",
    "- Yes, churn can be predicted using variables in the dataset. "
   ]
  }
 ],
 "metadata": {
  "kernelspec": {
   "display_name": "Python 3",
   "language": "python",
   "name": "python3"
  },
  "language_info": {
   "codemirror_mode": {
    "name": "ipython",
    "version": 3
   },
   "file_extension": ".py",
   "mimetype": "text/x-python",
   "name": "python",
   "nbconvert_exporter": "python",
   "pygments_lexer": "ipython3",
   "version": "3.13.0"
  }
 },
 "nbformat": 4,
 "nbformat_minor": 2
}
