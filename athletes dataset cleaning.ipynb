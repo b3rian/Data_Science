{
 "cells": [
  {
   "cell_type": "code",
   "execution_count": 2,
   "metadata": {},
   "outputs": [],
   "source": [
    "import pandas as pd\n",
    "import numpy as np"
   ]
  },
  {
   "cell_type": "code",
   "execution_count": 85,
   "metadata": {},
   "outputs": [],
   "source": [
    "dataset= pd.read_csv(r\"C:\\Users\\ADMIN\\Downloads\\bios.csv\")"
   ]
  },
  {
   "cell_type": "code",
   "execution_count": 86,
   "metadata": {},
   "outputs": [],
   "source": [
    "dataset['Sex'] = dataset['Sex'].str.strip()"
   ]
  },
  {
   "cell_type": "code",
   "execution_count": 87,
   "metadata": {},
   "outputs": [],
   "source": [
    "dataset.drop(columns = 'Full name', inplace = True)"
   ]
  },
  {
   "cell_type": "code",
   "execution_count": 94,
   "metadata": {},
   "outputs": [],
   "source": [
    "dataset[\"Used name\"] = dataset[\"Used name\"].str.replace(\"•\", \" \", regex=False).str.strip()\n"
   ]
  },
  {
   "cell_type": "code",
   "execution_count": 98,
   "metadata": {},
   "outputs": [],
   "source": [
    "dataset['Used name'] = dataset['Used name'].str.lower()"
   ]
  },
  {
   "cell_type": "code",
   "execution_count": 100,
   "metadata": {},
   "outputs": [],
   "source": [
    "dataset['Used name'] = dataset['Used name'].str.title()"
   ]
  },
  {
   "cell_type": "code",
   "execution_count": 107,
   "metadata": {},
   "outputs": [],
   "source": [
    "dataset['NOC'] = dataset['NOC'].str.strip()"
   ]
  },
  {
   "cell_type": "code",
   "execution_count": null,
   "metadata": {},
   "outputs": [],
   "source": [
    "columns_to_drop = ['Nick/petnames', 'Title(s)',\n",
    "       'Other names', 'Nationality', 'Original name', 'Name order']"
   ]
  },
  {
   "cell_type": "code",
   "execution_count": 116,
   "metadata": {},
   "outputs": [],
   "source": [
    "dataset.drop(columns= columns_to_drop, inplace= True)"
   ]
  },
  {
   "cell_type": "code",
   "execution_count": 121,
   "metadata": {},
   "outputs": [],
   "source": [
    "dataset = dataset[['athlete_id', 'Roles', 'Sex', 'Used name', 'Born', 'Died', 'NOC',\n",
    "       'Measurements', 'Affiliations']]"
   ]
  },
  {
   "cell_type": "code",
   "execution_count": 123,
   "metadata": {},
   "outputs": [],
   "source": [
    "dataset.rename(columns= {'athlete_id': 'Athlete_ID', 'Used name': 'Used_name'}, inplace= True)"
   ]
  },
  {
   "cell_type": "code",
   "execution_count": 124,
   "metadata": {},
   "outputs": [
    {
     "data": {
      "text/html": [
       "<div>\n",
       "<style scoped>\n",
       "    .dataframe tbody tr th:only-of-type {\n",
       "        vertical-align: middle;\n",
       "    }\n",
       "\n",
       "    .dataframe tbody tr th {\n",
       "        vertical-align: top;\n",
       "    }\n",
       "\n",
       "    .dataframe thead th {\n",
       "        text-align: right;\n",
       "    }\n",
       "</style>\n",
       "<table border=\"1\" class=\"dataframe\">\n",
       "  <thead>\n",
       "    <tr style=\"text-align: right;\">\n",
       "      <th></th>\n",
       "      <th>Athlete_ID</th>\n",
       "      <th>Roles</th>\n",
       "      <th>Sex</th>\n",
       "      <th>Used_name</th>\n",
       "      <th>Born</th>\n",
       "      <th>Died</th>\n",
       "      <th>NOC</th>\n",
       "      <th>Measurements</th>\n",
       "      <th>Affiliations</th>\n",
       "    </tr>\n",
       "  </thead>\n",
       "  <tbody>\n",
       "    <tr>\n",
       "      <th>0</th>\n",
       "      <td>1</td>\n",
       "      <td>Competed in Olympic Games</td>\n",
       "      <td>Male</td>\n",
       "      <td>Jean-François Blanchy</td>\n",
       "      <td>12 December 1886 in Bordeaux, Gironde (FRA)</td>\n",
       "      <td>2 October 1960 in Saint-Jean-de-Luz, Pyrénées-...</td>\n",
       "      <td>France</td>\n",
       "      <td>NaN</td>\n",
       "      <td>NaN</td>\n",
       "    </tr>\n",
       "    <tr>\n",
       "      <th>1</th>\n",
       "      <td>2</td>\n",
       "      <td>Competed in Olympic Games</td>\n",
       "      <td>Male</td>\n",
       "      <td>Arnaud Boetsch</td>\n",
       "      <td>1 April 1969 in Meulan, Yvelines (FRA)</td>\n",
       "      <td>NaN</td>\n",
       "      <td>France</td>\n",
       "      <td>183 cm / 76 kg</td>\n",
       "      <td>Racing Club de France, Paris (FRA)</td>\n",
       "    </tr>\n",
       "    <tr>\n",
       "      <th>2</th>\n",
       "      <td>3</td>\n",
       "      <td>Competed in Olympic Games • Administrator</td>\n",
       "      <td>Male</td>\n",
       "      <td>Jean Borotra</td>\n",
       "      <td>13 August 1898 in Biarritz, Pyrénées-Atlantiqu...</td>\n",
       "      <td>17 July 1994 in Arbonne, Pyrénées-Atlantiques ...</td>\n",
       "      <td>France</td>\n",
       "      <td>183 cm / 76 kg</td>\n",
       "      <td>TCP, Paris (FRA)</td>\n",
       "    </tr>\n",
       "  </tbody>\n",
       "</table>\n",
       "</div>"
      ],
      "text/plain": [
       "   Athlete_ID                                      Roles   Sex  \\\n",
       "0           1                  Competed in Olympic Games  Male   \n",
       "1           2                  Competed in Olympic Games  Male   \n",
       "2           3  Competed in Olympic Games • Administrator  Male   \n",
       "\n",
       "               Used_name                                               Born  \\\n",
       "0  Jean-François Blanchy        12 December 1886 in Bordeaux, Gironde (FRA)   \n",
       "1         Arnaud Boetsch             1 April 1969 in Meulan, Yvelines (FRA)   \n",
       "2           Jean Borotra  13 August 1898 in Biarritz, Pyrénées-Atlantiqu...   \n",
       "\n",
       "                                                Died     NOC    Measurements  \\\n",
       "0  2 October 1960 in Saint-Jean-de-Luz, Pyrénées-...  France             NaN   \n",
       "1                                                NaN  France  183 cm / 76 kg   \n",
       "2  17 July 1994 in Arbonne, Pyrénées-Atlantiques ...  France  183 cm / 76 kg   \n",
       "\n",
       "                         Affiliations  \n",
       "0                                 NaN  \n",
       "1  Racing Club de France, Paris (FRA)  \n",
       "2                    TCP, Paris (FRA)  "
      ]
     },
     "execution_count": 124,
     "metadata": {},
     "output_type": "execute_result"
    }
   ],
   "source": [
    "dataset.head(3)"
   ]
  }
 ],
 "metadata": {
  "kernelspec": {
   "display_name": "Python 3",
   "language": "python",
   "name": "python3"
  },
  "language_info": {
   "codemirror_mode": {
    "name": "ipython",
    "version": 3
   },
   "file_extension": ".py",
   "mimetype": "text/x-python",
   "name": "python",
   "nbconvert_exporter": "python",
   "pygments_lexer": "ipython3",
   "version": "3.13.0"
  }
 },
 "nbformat": 4,
 "nbformat_minor": 2
}
