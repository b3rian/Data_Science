{
 "cells": [
  {
   "cell_type": "code",
   "execution_count": 1,
   "metadata": {},
   "outputs": [],
   "source": [
    "import pandas as pd\n",
    "import numpy as np\n",
    "import matplotlib.pyplot as plt\n",
    "import seaborn as sns"
   ]
  },
  {
   "cell_type": "code",
   "execution_count": null,
   "metadata": {},
   "outputs": [],
   "source": [
    "# loading the datasets\n",
    "red_wine = pd.read_csv(r\"C:\\Users\\ADMIN\\Downloads\\wine+quality\\winequality-red.csv\", sep = ';')\n",
    "white_wine = pd.read_csv(r\"C:\\Users\\ADMIN\\Downloads\\wine+quality\\winequality-white.csv\", sep = ';')"
   ]
  },
  {
   "cell_type": "code",
   "execution_count": 13,
   "metadata": {},
   "outputs": [],
   "source": [
    "# renaming the columns\n",
    "white_wine.columns = ['fixed_acidity', 'volatile_acidity', 'citric_acid', 'residual_sugar',\n",
    "       'chlorides', 'free_sulfur_dioxide', 'total_sulfur_dioxide', 'density',\n",
    "       'pH', 'sulphates', 'alcohol', 'quality']\n",
    "\n",
    "red_wine.columns = ['fixed_acidity', 'volatile_acidity', 'citric_acid', 'residual_sugar',\n",
    "       'chlorides', 'free_sulfur_dioxide', 'total_sulfur_dioxide', 'density',\n",
    "       'pH', 'sulphates', 'alcohol', 'quality']"
   ]
  },
  {
   "cell_type": "code",
   "execution_count": null,
   "metadata": {},
   "outputs": [],
   "source": [
    "# Function to generate detailed univariate summary with quantiles\n",
    "def univariate_summary(df):\n",
    "    summary = pd.DataFrame({\n",
    "        'Mean': df.mean(),\n",
    "        'Std': df.std(),\n",
    "        'Min': df.min(),\n",
    "        '25% (Q1)': df.quantile(0.25),\n",
    "        '50% (Median)': df.median(),\n",
    "        '75% (Q3)': df.quantile(0.75),\n",
    "        'Max': df.max(),\n",
    "        'Skewness': df.skew(),\n",
    "        'Kurtosis': df.kurtosis()\n",
    "    })\n",
    "    return summary.round(3)  # Rounded for neatness\n",
    "\n",
    "# Create summaries\n",
    "red_summary = univariate_summary(red_wine)\n",
    "white_summary = univariate_summary(white_wine)\n",
    "\n",
    "# Display summaries\n",
    "print(\"\\n--- Red Wine Univariate Summary ---\\n\")\n",
    "red_summary\n"
   ]
  },
  {
   "cell_type": "code",
   "execution_count": null,
   "metadata": {},
   "outputs": [],
   "source": [
    "# distribution plots for red wine's features\n",
    "plt.figure(figsize=(10, 6))\n",
    "for col in red_wine.columns:\n",
    " sns.histplot(red_wine[col], kde=True, bins=15)\n",
    " plt.suptitle(f\"Distribution of {col} in Red Wine\")\n",
    " plt.show()\n",
    "\n",
    "# distribution plots for white wine's features\n",
    "plt.figure(figsize=(10, 6))\n",
    "for col in red_wine.columns:\n",
    " sns.histplot(white_wine[col], kde=True, bins=15)\n",
    " plt.suptitle(f\"Distribution of {col} in White Wine\")\n",
    " plt.show() "
   ]
  },
  {
   "cell_type": "code",
   "execution_count": null,
   "metadata": {},
   "outputs": [],
   "source": [
    "# distribution kdeplots for white wine's features\n",
    "plt.figure(figsize=(10, 6))\n",
    "for col in white_wine.columns:\n",
    " sns.kdeplot(white_wine[col], fill =True, color='orange', bw_adjust=1.0)\n",
    " plt.suptitle(f\"Distribution of {col} in White Wine\")\n",
    " plt.show()\n",
    "\n",
    "# distribution kdeplots for red wine's features\n",
    "plt.figure(figsize=(10, 6))\n",
    "for col in red_wine.columns:\n",
    " sns.kdeplot(red_wine[col], fill =True, color='orange', bw_adjust=1.0)\n",
    " plt.suptitle(f\"Distribution of {col} in red Wine\")\n",
    " plt.show()"
   ]
  },
  {
   "cell_type": "code",
   "execution_count": null,
   "metadata": {},
   "outputs": [],
   "source": [
    "# boxplots for red wine's features\n",
    "plt.figure(figsize=(10, 6))\n",
    "for col in red_wine.columns:\n",
    "    sns.boxplot(y=col, data=red_wine, color='orange', orient='h', )\n",
    "    plt.title(f\"Boxplot of {col} in Red Wine\")\n",
    "    plt.show()\n",
    "\n",
    "# boxplots for white wine's features\n",
    "plt.figure(figsize=(10, 6))\n",
    "for col in white_wine.columns:\n",
    "    sns.boxplot(y=col, data=white_wine, color='orange', orient='h', )\n",
    "    plt.title(f\"Boxplot of {col} in Red Wine\")\n",
    "    plt.show()"
   ]
  },
  {
   "cell_type": "code",
   "execution_count": null,
   "metadata": {},
   "outputs": [
    {
     "data": {
      "image/png": "[encoded data removed]",
      "text/plain": [
       "<Figure size 640x480 with 1 Axes>"
      ]
     },
     "metadata": {},
     "output_type": "display_data"
    }
   ],
   "source": [
    "# bar plot for red wine's quality\n",
    "sns.countplot(x='quality', data= red_wine, color='orange')\n",
    "plt.title('Count of Quality Ratings in Red Wine')\n",
    "plt.show()\n",
    "\n",
    "# bar plot for white wine's quality\n",
    "sns.countplot(x='quality', data= white_wine, color='orange')\n",
    "plt.title('Count of Quality Ratings in White Wine')\n",
    "plt.show()"
   ]
  },
  {
   "cell_type": "markdown",
   "metadata": {},
   "source": [
    "# Key EDA Insights:\n",
    "- White wines are generally sweeter, less dense, more acidic, and preserved with more sulfur dioxide\n",
    "- Red wines tend to have higher fixed acidity, higher volatile acidity, more chlorides (salt), and higher sulphates\n",
    "- Both wines show some extreme outliers especially in residual sugar, chlorides, and sulphates\n",
    "- Quality ratings are similar, but white wines are slightly better rated on average"
   ]
  }
 ],
 "metadata": {
  "kernelspec": {
   "display_name": "Python 3",
   "language": "python",
   "name": "python3"
  },
  "language_info": {
   "codemirror_mode": {
    "name": "ipython",
    "version": 3
   },
   "file_extension": ".py",
   "mimetype": "text/x-python",
   "name": "python",
   "nbconvert_exporter": "python",
   "pygments_lexer": "ipython3",
   "version": "3.13.0"
  }
 },
 "nbformat": 4,
 "nbformat_minor": 2
}
