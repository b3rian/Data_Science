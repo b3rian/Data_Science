{
 "cells": [
  {
   "cell_type": "code",
   "execution_count": 1,
   "metadata": {},
   "outputs": [],
   "source": [
    "import pandas as pd"
   ]
  },
  {
   "cell_type": "code",
   "execution_count": 2,
   "metadata": {},
   "outputs": [
    {
     "name": "stderr",
     "output_type": "stream",
     "text": [
      "C:\\Users\\ADMIN\\AppData\\Local\\Temp\\ipykernel_10468\\2589844939.py:1: DtypeWarning: Columns (25) have mixed types. Specify dtype option on import or set low_memory=False.\n",
      "  dataset = pd.read_csv(r\"C:\\Users\\ADMIN\\Downloads\\archive\\Airbnb_Open_Data.csv\")\n"
     ]
    },
    {
     "name": "stdout",
     "output_type": "stream",
     "text": [
      "<class 'pandas.core.frame.DataFrame'>\n",
      "RangeIndex: 102599 entries, 0 to 102598\n",
      "Data columns (total 26 columns):\n",
      " #   Column                          Non-Null Count   Dtype  \n",
      "---  ------                          --------------   -----  \n",
      " 0   id                              102599 non-null  int64  \n",
      " 1   NAME                            102349 non-null  object \n",
      " 2   host id                         102599 non-null  int64  \n",
      " 3   host_identity_verified          102310 non-null  object \n",
      " 4   host name                       102193 non-null  object \n",
      " 5   neighbourhood group             102570 non-null  object \n",
      " 6   neighbourhood                   102583 non-null  object \n",
      " 7   lat                             102591 non-null  float64\n",
      " 8   long                            102591 non-null  float64\n",
      " 9   country                         102067 non-null  object \n",
      " 10  country code                    102468 non-null  object \n",
      " 11  instant_bookable                102494 non-null  object \n",
      " 12  cancellation_policy             102523 non-null  object \n",
      " 13  room type                       102599 non-null  object \n",
      " 14  Construction year               102385 non-null  float64\n",
      " 15  price                           102352 non-null  object \n",
      " 16  service fee                     102326 non-null  object \n",
      " 17  minimum nights                  102190 non-null  float64\n",
      " 18  number of reviews               102416 non-null  float64\n",
      " 19  last review                     86706 non-null   object \n",
      " 20  reviews per month               86720 non-null   float64\n",
      " 21  review rate number              102273 non-null  float64\n",
      " 22  calculated host listings count  102280 non-null  float64\n",
      " 23  availability 365                102151 non-null  float64\n",
      " 24  house_rules                     50468 non-null   object \n",
      " 25  license                         2 non-null       object \n",
      "dtypes: float64(9), int64(2), object(15)\n",
      "memory usage: 20.4+ MB\n"
     ]
    }
   ],
   "source": [
    "dataset = pd.read_csv(r\"C:\\Users\\ADMIN\\Downloads\\archive\\Airbnb_Open_Data.csv\")\n",
    "dataset.info()"
   ]
  },
  {
   "cell_type": "code",
   "execution_count": 8,
   "metadata": {},
   "outputs": [
    {
     "data": {
      "text/plain": [
       "Index(['id', 'NAME', 'host id', 'host_identity_verified', 'host name',\n",
       "       'neighbourhood group', 'neighbourhood', 'lat', 'long', 'country',\n",
       "       'country code', 'instant_bookable', 'cancellation_policy', 'room type',\n",
       "       'Construction year', 'price', 'service fee', 'minimum nights',\n",
       "       'number of reviews', 'last review', 'reviews per month',\n",
       "       'review rate number', 'calculated host listings count',\n",
       "       'availability 365', 'house_rules', 'license'],\n",
       "      dtype='object')"
      ]
     },
     "execution_count": 8,
     "metadata": {},
     "output_type": "execute_result"
    }
   ],
   "source": [
    "dataset.columns"
   ]
  },
  {
   "cell_type": "code",
   "execution_count": 9,
   "metadata": {},
   "outputs": [
    {
     "data": {
      "text/plain": [
       "7"
      ]
     },
     "execution_count": 9,
     "metadata": {},
     "output_type": "execute_result"
    }
   ],
   "source": [
    "columns_to_drop = ['id','reviews per month',\n",
    "       'review rate number', 'calculated host listings count',\n",
    "       'availability 365', 'house_rules', 'license']\n",
    "len(columns_to_drop)"
   ]
  },
  {
   "cell_type": "code",
   "execution_count": null,
   "metadata": {},
   "outputs": [
    {
     "data": {
      "text/plain": [
       "19"
      ]
     },
     "execution_count": 15,
     "metadata": {},
     "output_type": "execute_result"
    }
   ],
   "source": [
    "dataset.drop(columns=columns_to_drop, inplace=True)\n"
   ]
  },
  {
   "cell_type": "code",
   "execution_count": 18,
   "metadata": {},
   "outputs": [],
   "source": [
    "new_column_names = []\n",
    "for column in dataset.columns:\n",
    "    new_column_names.append(column.upper())"
   ]
  },
  {
   "cell_type": "code",
   "execution_count": 19,
   "metadata": {},
   "outputs": [],
   "source": [
    "new_dataset = dataset.copy()"
   ]
  },
  {
   "cell_type": "code",
   "execution_count": 22,
   "metadata": {},
   "outputs": [
    {
     "data": {
      "text/plain": [
       "Index(['NAME', 'HOST ID', 'HOST_IDENTITY_VERIFIED', 'HOST NAME',\n",
       "       'NEIGHBOURHOOD GROUP', 'NEIGHBOURHOOD', 'LAT', 'LONG', 'COUNTRY',\n",
       "       'COUNTRY CODE', 'INSTANT_BOOKABLE', 'CANCELLATION_POLICY', 'ROOM TYPE',\n",
       "       'CONSTRUCTION YEAR', 'PRICE', 'SERVICE FEE', 'MINIMUM NIGHTS',\n",
       "       'NUMBER OF REVIEWS', 'LAST REVIEW'],\n",
       "      dtype='object')"
      ]
     },
     "execution_count": 22,
     "metadata": {},
     "output_type": "execute_result"
    }
   ],
   "source": [
    "new_dataset.columns = new_column_names\n",
    "new_dataset.columns"
   ]
  },
  {
   "cell_type": "code",
   "execution_count": 25,
   "metadata": {},
   "outputs": [
    {
     "data": {
      "text/plain": [
       "False    102058\n",
       "True        541\n",
       "Name: count, dtype: int64"
      ]
     },
     "execution_count": 25,
     "metadata": {},
     "output_type": "execute_result"
    }
   ],
   "source": [
    "new_dataset.duplicated().value_counts()"
   ]
  },
  {
   "cell_type": "code",
   "execution_count": 26,
   "metadata": {},
   "outputs": [],
   "source": [
    "new_dataset.drop_duplicates(inplace=True)"
   ]
  },
  {
   "cell_type": "code",
   "execution_count": 32,
   "metadata": {},
   "outputs": [
    {
     "data": {
      "text/plain": [
       "NAME                      250\n",
       "HOST ID                     0\n",
       "HOST_IDENTITY_VERIFIED    289\n",
       "HOST NAME                 404\n",
       "NEIGHBOURHOOD GROUP        29\n",
       "NEIGHBOURHOOD              16\n",
       "LAT                         8\n",
       "LONG                        8\n",
       "COUNTRY                   532\n",
       "COUNTRY CODE              131\n",
       "INSTANT_BOOKABLE          105\n",
       "CANCELLATION_POLICY        76\n",
       "ROOM TYPE                   0\n",
       "CONSTRUCTION YEAR         214\n",
       "PRICE                     247\n",
       "SERVICE FEE               273\n",
       "MINIMUM NIGHTS            400\n",
       "NUMBER OF REVIEWS         183\n",
       "dtype: int64"
      ]
     },
     "execution_count": 32,
     "metadata": {},
     "output_type": "execute_result"
    }
   ],
   "source": [
    "new_dataset.isna().sum()"
   ]
  },
  {
   "cell_type": "code",
   "execution_count": 30,
   "metadata": {},
   "outputs": [],
   "source": [
    "new_dataset.drop(columns = 'LAST REVIEW', inplace=True)"
   ]
  },
  {
   "cell_type": "code",
   "execution_count": 33,
   "metadata": {},
   "outputs": [],
   "source": [
    "new_dataset.dropna(inplace=True)"
   ]
  },
  {
   "cell_type": "code",
   "execution_count": 39,
   "metadata": {},
   "outputs": [],
   "source": [
    "new_dataset['HOST_IDENTITY_VERIFIED'] = new_dataset['HOST_IDENTITY_VERIFIED'].str.capitalize()"
   ]
  },
  {
   "cell_type": "code",
   "execution_count": 42,
   "metadata": {},
   "outputs": [],
   "source": [
    "new_dataset['INSTANT_BOOKABLE'] = new_dataset['INSTANT_BOOKABLE'].apply(lambda x: 1 if x == 'True' else 0)"
   ]
  },
  {
   "cell_type": "code",
   "execution_count": 45,
   "metadata": {},
   "outputs": [],
   "source": [
    "new_dataset.reset_index(drop=True, inplace=True)"
   ]
  },
  {
   "cell_type": "code",
   "execution_count": 51,
   "metadata": {},
   "outputs": [],
   "source": [
    "new_dataset['PRICE'] = new_dataset['PRICE'].str.replace('$','')"
   ]
  },
  {
   "cell_type": "code",
   "execution_count": 54,
   "metadata": {},
   "outputs": [],
   "source": [
    "new_dataset['PRICE'] = new_dataset['PRICE'].str.replace(',','')"
   ]
  },
  {
   "cell_type": "code",
   "execution_count": 55,
   "metadata": {},
   "outputs": [],
   "source": [
    "new_dataset['PRICE'] = new_dataset['PRICE'].str.replace(' ','')"
   ]
  },
  {
   "cell_type": "code",
   "execution_count": 59,
   "metadata": {},
   "outputs": [],
   "source": [
    "new_dataset['PRICE'] = new_dataset['PRICE'].astype(int)"
   ]
  },
  {
   "cell_type": "code",
   "execution_count": 63,
   "metadata": {},
   "outputs": [],
   "source": [
    "new_dataset.to_csv('cleaned_dataset.csv', index=False)"
   ]
  },
  {
   "cell_type": "code",
   "execution_count": 64,
   "metadata": {},
   "outputs": [
    {
     "data": {
      "text/html": [
       "<div>\n",
       "<style scoped>\n",
       "    .dataframe tbody tr th:only-of-type {\n",
       "        vertical-align: middle;\n",
       "    }\n",
       "\n",
       "    .dataframe tbody tr th {\n",
       "        vertical-align: top;\n",
       "    }\n",
       "\n",
       "    .dataframe thead th {\n",
       "        text-align: right;\n",
       "    }\n",
       "</style>\n",
       "<table border=\"1\" class=\"dataframe\">\n",
       "  <thead>\n",
       "    <tr style=\"text-align: right;\">\n",
       "      <th></th>\n",
       "      <th>NAME</th>\n",
       "      <th>HOST ID</th>\n",
       "      <th>HOST_IDENTITY_VERIFIED</th>\n",
       "      <th>HOST NAME</th>\n",
       "      <th>NEIGHBOURHOOD GROUP</th>\n",
       "      <th>NEIGHBOURHOOD</th>\n",
       "      <th>LAT</th>\n",
       "      <th>LONG</th>\n",
       "      <th>COUNTRY</th>\n",
       "      <th>COUNTRY CODE</th>\n",
       "      <th>INSTANT_BOOKABLE</th>\n",
       "      <th>CANCELLATION_POLICY</th>\n",
       "      <th>ROOM TYPE</th>\n",
       "      <th>CONSTRUCTION YEAR</th>\n",
       "      <th>PRICE</th>\n",
       "      <th>SERVICE FEE</th>\n",
       "      <th>MINIMUM NIGHTS</th>\n",
       "      <th>NUMBER OF REVIEWS</th>\n",
       "    </tr>\n",
       "  </thead>\n",
       "  <tbody>\n",
       "    <tr>\n",
       "      <th>0</th>\n",
       "      <td>Clean &amp; quiet apt home by the park</td>\n",
       "      <td>80014485718</td>\n",
       "      <td>Unconfirmed</td>\n",
       "      <td>Madaline</td>\n",
       "      <td>Brooklyn</td>\n",
       "      <td>Kensington</td>\n",
       "      <td>40.64749</td>\n",
       "      <td>-73.97237</td>\n",
       "      <td>United States</td>\n",
       "      <td>US</td>\n",
       "      <td>0</td>\n",
       "      <td>strict</td>\n",
       "      <td>Private room</td>\n",
       "      <td>2020.0</td>\n",
       "      <td>966</td>\n",
       "      <td>$193</td>\n",
       "      <td>10.0</td>\n",
       "      <td>9.0</td>\n",
       "    </tr>\n",
       "    <tr>\n",
       "      <th>1</th>\n",
       "      <td>Skylit Midtown Castle</td>\n",
       "      <td>52335172823</td>\n",
       "      <td>Verified</td>\n",
       "      <td>Jenna</td>\n",
       "      <td>Manhattan</td>\n",
       "      <td>Midtown</td>\n",
       "      <td>40.75362</td>\n",
       "      <td>-73.98377</td>\n",
       "      <td>United States</td>\n",
       "      <td>US</td>\n",
       "      <td>0</td>\n",
       "      <td>moderate</td>\n",
       "      <td>Entire home/apt</td>\n",
       "      <td>2007.0</td>\n",
       "      <td>142</td>\n",
       "      <td>$28</td>\n",
       "      <td>30.0</td>\n",
       "      <td>45.0</td>\n",
       "    </tr>\n",
       "    <tr>\n",
       "      <th>2</th>\n",
       "      <td>Entire Apt: Spacious Studio/Loft by central park</td>\n",
       "      <td>92037596077</td>\n",
       "      <td>Verified</td>\n",
       "      <td>Lyndon</td>\n",
       "      <td>Manhattan</td>\n",
       "      <td>East Harlem</td>\n",
       "      <td>40.79851</td>\n",
       "      <td>-73.94399</td>\n",
       "      <td>United States</td>\n",
       "      <td>US</td>\n",
       "      <td>0</td>\n",
       "      <td>moderate</td>\n",
       "      <td>Entire home/apt</td>\n",
       "      <td>2009.0</td>\n",
       "      <td>204</td>\n",
       "      <td>$41</td>\n",
       "      <td>10.0</td>\n",
       "      <td>9.0</td>\n",
       "    </tr>\n",
       "    <tr>\n",
       "      <th>3</th>\n",
       "      <td>Large Cozy 1 BR Apartment In Midtown East</td>\n",
       "      <td>45498551794</td>\n",
       "      <td>Verified</td>\n",
       "      <td>Michelle</td>\n",
       "      <td>Manhattan</td>\n",
       "      <td>Murray Hill</td>\n",
       "      <td>40.74767</td>\n",
       "      <td>-73.97500</td>\n",
       "      <td>United States</td>\n",
       "      <td>US</td>\n",
       "      <td>0</td>\n",
       "      <td>flexible</td>\n",
       "      <td>Entire home/apt</td>\n",
       "      <td>2013.0</td>\n",
       "      <td>577</td>\n",
       "      <td>$115</td>\n",
       "      <td>3.0</td>\n",
       "      <td>74.0</td>\n",
       "    </tr>\n",
       "    <tr>\n",
       "      <th>4</th>\n",
       "      <td>BlissArtsSpace!</td>\n",
       "      <td>90821839709</td>\n",
       "      <td>Unconfirmed</td>\n",
       "      <td>Emma</td>\n",
       "      <td>Brooklyn</td>\n",
       "      <td>Bedford-Stuyvesant</td>\n",
       "      <td>40.68688</td>\n",
       "      <td>-73.95596</td>\n",
       "      <td>United States</td>\n",
       "      <td>US</td>\n",
       "      <td>0</td>\n",
       "      <td>moderate</td>\n",
       "      <td>Private room</td>\n",
       "      <td>2009.0</td>\n",
       "      <td>1060</td>\n",
       "      <td>$212</td>\n",
       "      <td>45.0</td>\n",
       "      <td>49.0</td>\n",
       "    </tr>\n",
       "    <tr>\n",
       "      <th>...</th>\n",
       "      <td>...</td>\n",
       "      <td>...</td>\n",
       "      <td>...</td>\n",
       "      <td>...</td>\n",
       "      <td>...</td>\n",
       "      <td>...</td>\n",
       "      <td>...</td>\n",
       "      <td>...</td>\n",
       "      <td>...</td>\n",
       "      <td>...</td>\n",
       "      <td>...</td>\n",
       "      <td>...</td>\n",
       "      <td>...</td>\n",
       "      <td>...</td>\n",
       "      <td>...</td>\n",
       "      <td>...</td>\n",
       "      <td>...</td>\n",
       "      <td>...</td>\n",
       "    </tr>\n",
       "    <tr>\n",
       "      <th>99337</th>\n",
       "      <td>Cozy room in a 2B with backyard access</td>\n",
       "      <td>5155155913</td>\n",
       "      <td>Unconfirmed</td>\n",
       "      <td>Cristina</td>\n",
       "      <td>Queens</td>\n",
       "      <td>Astoria</td>\n",
       "      <td>40.76987</td>\n",
       "      <td>-73.92679</td>\n",
       "      <td>United States</td>\n",
       "      <td>US</td>\n",
       "      <td>0</td>\n",
       "      <td>flexible</td>\n",
       "      <td>Private room</td>\n",
       "      <td>2018.0</td>\n",
       "      <td>822</td>\n",
       "      <td>$164</td>\n",
       "      <td>1.0</td>\n",
       "      <td>9.0</td>\n",
       "    </tr>\n",
       "    <tr>\n",
       "      <th>99338</th>\n",
       "      <td>An East Williamsburg Delight</td>\n",
       "      <td>71564706996</td>\n",
       "      <td>Verified</td>\n",
       "      <td>Petra</td>\n",
       "      <td>Brooklyn</td>\n",
       "      <td>Bedford-Stuyvesant</td>\n",
       "      <td>40.68335</td>\n",
       "      <td>-73.91222</td>\n",
       "      <td>United States</td>\n",
       "      <td>US</td>\n",
       "      <td>0</td>\n",
       "      <td>moderate</td>\n",
       "      <td>Private room</td>\n",
       "      <td>2015.0</td>\n",
       "      <td>455</td>\n",
       "      <td>$91</td>\n",
       "      <td>4.0</td>\n",
       "      <td>36.0</td>\n",
       "    </tr>\n",
       "    <tr>\n",
       "      <th>99339</th>\n",
       "      <td>Cozy bedroom in williamsburg</td>\n",
       "      <td>83101851929</td>\n",
       "      <td>Verified</td>\n",
       "      <td>Russell</td>\n",
       "      <td>Brooklyn</td>\n",
       "      <td>Williamsburg</td>\n",
       "      <td>40.70870</td>\n",
       "      <td>-73.96710</td>\n",
       "      <td>United States</td>\n",
       "      <td>US</td>\n",
       "      <td>0</td>\n",
       "      <td>flexible</td>\n",
       "      <td>Private room</td>\n",
       "      <td>2020.0</td>\n",
       "      <td>1078</td>\n",
       "      <td>$216</td>\n",
       "      <td>1.0</td>\n",
       "      <td>58.0</td>\n",
       "    </tr>\n",
       "    <tr>\n",
       "      <th>99340</th>\n",
       "      <td>Spacious Room w/ 2 Bed</td>\n",
       "      <td>69037598918</td>\n",
       "      <td>Unconfirmed</td>\n",
       "      <td>Christine</td>\n",
       "      <td>Queens</td>\n",
       "      <td>Bayside</td>\n",
       "      <td>40.75047</td>\n",
       "      <td>-73.75349</td>\n",
       "      <td>United States</td>\n",
       "      <td>US</td>\n",
       "      <td>0</td>\n",
       "      <td>moderate</td>\n",
       "      <td>Private room</td>\n",
       "      <td>2007.0</td>\n",
       "      <td>103</td>\n",
       "      <td>$21</td>\n",
       "      <td>7.0</td>\n",
       "      <td>40.0</td>\n",
       "    </tr>\n",
       "    <tr>\n",
       "      <th>99341</th>\n",
       "      <td>Room in Queens, NY, near LGA.</td>\n",
       "      <td>56457739998</td>\n",
       "      <td>Verified</td>\n",
       "      <td>Sonia</td>\n",
       "      <td>Queens</td>\n",
       "      <td>East Elmhurst</td>\n",
       "      <td>40.76245</td>\n",
       "      <td>-73.87938</td>\n",
       "      <td>United States</td>\n",
       "      <td>US</td>\n",
       "      <td>0</td>\n",
       "      <td>strict</td>\n",
       "      <td>Private room</td>\n",
       "      <td>2022.0</td>\n",
       "      <td>982</td>\n",
       "      <td>$196</td>\n",
       "      <td>1.0</td>\n",
       "      <td>239.0</td>\n",
       "    </tr>\n",
       "  </tbody>\n",
       "</table>\n",
       "<p>99342 rows × 18 columns</p>\n",
       "</div>"
      ],
      "text/plain": [
       "                                                   NAME      HOST ID  \\\n",
       "0                    Clean & quiet apt home by the park  80014485718   \n",
       "1                                 Skylit Midtown Castle  52335172823   \n",
       "2      Entire Apt: Spacious Studio/Loft by central park  92037596077   \n",
       "3             Large Cozy 1 BR Apartment In Midtown East  45498551794   \n",
       "4                                       BlissArtsSpace!  90821839709   \n",
       "...                                                 ...          ...   \n",
       "99337            Cozy room in a 2B with backyard access   5155155913   \n",
       "99338                      An East Williamsburg Delight  71564706996   \n",
       "99339                      Cozy bedroom in williamsburg  83101851929   \n",
       "99340                            Spacious Room w/ 2 Bed  69037598918   \n",
       "99341                     Room in Queens, NY, near LGA.  56457739998   \n",
       "\n",
       "      HOST_IDENTITY_VERIFIED  HOST NAME NEIGHBOURHOOD GROUP  \\\n",
       "0                Unconfirmed   Madaline            Brooklyn   \n",
       "1                   Verified      Jenna           Manhattan   \n",
       "2                   Verified     Lyndon           Manhattan   \n",
       "3                   Verified   Michelle           Manhattan   \n",
       "4                Unconfirmed       Emma            Brooklyn   \n",
       "...                      ...        ...                 ...   \n",
       "99337            Unconfirmed   Cristina              Queens   \n",
       "99338               Verified      Petra            Brooklyn   \n",
       "99339               Verified    Russell            Brooklyn   \n",
       "99340            Unconfirmed  Christine              Queens   \n",
       "99341               Verified      Sonia              Queens   \n",
       "\n",
       "            NEIGHBOURHOOD       LAT      LONG        COUNTRY COUNTRY CODE  \\\n",
       "0              Kensington  40.64749 -73.97237  United States           US   \n",
       "1                 Midtown  40.75362 -73.98377  United States           US   \n",
       "2             East Harlem  40.79851 -73.94399  United States           US   \n",
       "3             Murray Hill  40.74767 -73.97500  United States           US   \n",
       "4      Bedford-Stuyvesant  40.68688 -73.95596  United States           US   \n",
       "...                   ...       ...       ...            ...          ...   \n",
       "99337             Astoria  40.76987 -73.92679  United States           US   \n",
       "99338  Bedford-Stuyvesant  40.68335 -73.91222  United States           US   \n",
       "99339        Williamsburg  40.70870 -73.96710  United States           US   \n",
       "99340             Bayside  40.75047 -73.75349  United States           US   \n",
       "99341       East Elmhurst  40.76245 -73.87938  United States           US   \n",
       "\n",
       "       INSTANT_BOOKABLE CANCELLATION_POLICY        ROOM TYPE  \\\n",
       "0                     0              strict     Private room   \n",
       "1                     0            moderate  Entire home/apt   \n",
       "2                     0            moderate  Entire home/apt   \n",
       "3                     0            flexible  Entire home/apt   \n",
       "4                     0            moderate     Private room   \n",
       "...                 ...                 ...              ...   \n",
       "99337                 0            flexible     Private room   \n",
       "99338                 0            moderate     Private room   \n",
       "99339                 0            flexible     Private room   \n",
       "99340                 0            moderate     Private room   \n",
       "99341                 0              strict     Private room   \n",
       "\n",
       "       CONSTRUCTION YEAR  PRICE SERVICE FEE  MINIMUM NIGHTS  NUMBER OF REVIEWS  \n",
       "0                 2020.0    966       $193             10.0                9.0  \n",
       "1                 2007.0    142        $28             30.0               45.0  \n",
       "2                 2009.0    204        $41             10.0                9.0  \n",
       "3                 2013.0    577       $115              3.0               74.0  \n",
       "4                 2009.0   1060       $212             45.0               49.0  \n",
       "...                  ...    ...         ...             ...                ...  \n",
       "99337             2018.0    822       $164              1.0                9.0  \n",
       "99338             2015.0    455        $91              4.0               36.0  \n",
       "99339             2020.0   1078       $216              1.0               58.0  \n",
       "99340             2007.0    103        $21              7.0               40.0  \n",
       "99341             2022.0    982       $196              1.0              239.0  \n",
       "\n",
       "[99342 rows x 18 columns]"
      ]
     },
     "execution_count": 64,
     "metadata": {},
     "output_type": "execute_result"
    }
   ],
   "source": [
    "pd.read_csv('cleaned_dataset.csv')"
   ]
  }
 ],
 "metadata": {
  "kernelspec": {
   "display_name": "Python 3",
   "language": "python",
   "name": "python3"
  },
  "language_info": {
   "codemirror_mode": {
    "name": "ipython",
    "version": 3
   },
   "file_extension": ".py",
   "mimetype": "text/x-python",
   "name": "python",
   "nbconvert_exporter": "python",
   "pygments_lexer": "ipython3",
   "version": "3.13.0"
  }
 },
 "nbformat": 4,
 "nbformat_minor": 2
}
