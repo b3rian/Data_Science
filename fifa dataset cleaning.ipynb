{
 "cells": [
  {
   "cell_type": "code",
   "execution_count": 1,
   "metadata": {},
   "outputs": [],
   "source": [
    "import pandas as pd\n",
    "import numpy as np"
   ]
  },
  {
   "cell_type": "code",
   "execution_count": 168,
   "metadata": {},
   "outputs": [
    {
     "name": "stderr",
     "output_type": "stream",
     "text": [
      "C:\\Users\\ADMIN\\AppData\\Local\\Temp\\ipykernel_6588\\584168978.py:2: DtypeWarning: Columns (76) have mixed types. Specify dtype option on import or set low_memory=False.\n",
      "  dataset = pd.read_csv(r\"C:\\Users\\ADMIN\\Downloads\\fifa21 raw data v2.csv\")\n"
     ]
    }
   ],
   "source": [
    "pd.set_option('display.max_columns', None) # display all columns in the dataset\n",
    "dataset = pd.read_csv(r\"C:\\Users\\ADMIN\\Downloads\\fifa21 raw data v2.csv\")\n"
   ]
  },
  {
   "cell_type": "code",
   "execution_count": 173,
   "metadata": {},
   "outputs": [],
   "source": [
    "# Remove unnecessary columns\n",
    "columns_to_drop = ['Attacking', 'Crossing', 'Finishing',\n",
    "       'Heading Accuracy', 'Short Passing', 'Volleys', 'Skill', 'Dribbling',\n",
    "       'Curve', 'FK Accuracy', 'Long Passing', 'Ball Control', 'Movement',\n",
    "       'Acceleration', 'Sprint Speed', 'Agility', 'Reactions', 'Balance',\n",
    "       'Power', 'Shot Power', 'Jumping', 'Stamina', 'Strength', 'Long Shots',\n",
    "       'Mentality', 'Aggression', 'Interceptions', 'Positioning', 'Vision',\n",
    "       'Penalties', 'Composure', 'Defending', 'Marking', 'Standing Tackle',\n",
    "       'Sliding Tackle', 'Goalkeeping', 'GK Diving', 'GK Handling',\n",
    "       'GK Kicking', 'GK Positioning', 'GK Reflexes','Name','photoUrl', 'playerUrl','↓OVA', 'POT', 'Positions','BOV', 'PAC', 'SHO', 'PAS',\n",
    "       'DRI', 'DEF', 'PHY', 'Hits']"
   ]
  },
  {
   "cell_type": "code",
   "execution_count": 174,
   "metadata": {},
   "outputs": [],
   "source": [
    "dataset.drop(columns = columns_to_drop, inplace= True)"
   ]
  },
  {
   "cell_type": "code",
   "execution_count": 175,
   "metadata": {},
   "outputs": [],
   "source": [
    "dataset['LongName'] = dataset['LongName'].str.strip()"
   ]
  },
  {
   "cell_type": "code",
   "execution_count": 176,
   "metadata": {},
   "outputs": [],
   "source": [
    "dataset['Nationality'] = dataset['Nationality'].str.strip()"
   ]
  },
  {
   "cell_type": "code",
   "execution_count": 177,
   "metadata": {},
   "outputs": [],
   "source": [
    "dataset['Age'] = dataset['Age'].astype(str).str.strip()"
   ]
  },
  {
   "cell_type": "code",
   "execution_count": 178,
   "metadata": {},
   "outputs": [],
   "source": [
    "dataset['Age'] = pd.to_numeric(dataset['Age'])"
   ]
  },
  {
   "cell_type": "code",
   "execution_count": 179,
   "metadata": {},
   "outputs": [],
   "source": [
    "dataset['Club'] = dataset['Club'].replace('\\n\\n\\n\\n', '').str.strip()"
   ]
  },
  {
   "cell_type": "code",
   "execution_count": 180,
   "metadata": {},
   "outputs": [],
   "source": [
    "# Convert the joined column to the correct datetime format \n",
    "dataset['Joined'] = pd.to_datetime(dataset['Joined'], format='%d-%b-%y', errors='coerce')"
   ]
  },
  {
   "cell_type": "code",
   "execution_count": 181,
   "metadata": {},
   "outputs": [],
   "source": [
    "# Extracting the year from the joined column\n",
    "dataset['Joined Year'] = dataset['Joined'].dt.year"
   ]
  },
  {
   "cell_type": "code",
   "execution_count": 182,
   "metadata": {},
   "outputs": [],
   "source": [
    "# Function to process contract column\n",
    "def process_contract(row):\n",
    "    contract = str(row['Contract']).strip()\n",
    "    joined_year = row['Joined Year']\n",
    "\n",
    "    if '~' in contract:  # Standard contract format \"YYYY~YYYY\"\n",
    "        start, end = contract.split('~')\n",
    "        return pd.Series([start.strip(), end.strip(), 'On Contract'])\n",
    "\n",
    "    elif 'On Loan' in contract:  # Loan format \"Month Day, Year On Loan\"\n",
    "        end_year = contract[-9:-5]  # Extract the year from end date\n",
    "        return pd.Series([joined_year, end_year, 'On Loan'])\n",
    "\n",
    "    elif 'Free' in contract:  # Free agent\n",
    "        return pd.Series([joined_year, np.nan, 'Free'])\n",
    "\n",
    "    else:  # If none of the above (unexpected case)\n",
    "        return pd.Series([np.nan, np.nan, 'Unknown'])\n",
    " \n"
   ]
  },
  {
   "cell_type": "code",
   "execution_count": 183,
   "metadata": {},
   "outputs": [],
   "source": [
    "# Apply function to create new columns\n",
    "dataset[['Contract Start', 'Contract End', 'Contract Status']] = dataset.apply(process_contract, axis=1)\n",
    "\n",
    "# Convert contract years to numeric format\n",
    "dataset['Contract Start'] = pd.to_numeric(dataset['Contract Start'], errors='coerce')\n",
    "dataset['Contract End'] = pd.to_numeric(dataset['Contract End'], errors='coerce')"
   ]
  },
  {
   "cell_type": "code",
   "execution_count": 170,
   "metadata": {},
   "outputs": [],
   "source": [
    "def convert_height(height):\n",
    "    if 'cm' in height:\n",
    "        return int(height.strip('cm'))\n",
    "    else:\n",
    "        feet, inches = height.split(\"'\")\n",
    "        total_inches = int(feet) * 12 + int(inches.strip('\"'))\n",
    "        return round(total_inches * 2.54)"
   ]
  },
  {
   "cell_type": "code",
   "execution_count": null,
   "metadata": {},
   "outputs": [],
   "source": [
    "# Apply the function to the height column\n",
    "dataset['Height'] = dataset['Height'].apply(convert_height)"
   ]
  },
  {
   "cell_type": "code",
   "execution_count": 190,
   "metadata": {},
   "outputs": [],
   "source": [
    "# Rename the height column\n",
    "dataset.rename(columns = {'Height' : 'Height_Cm'}, inplace= True)"
   ]
  },
  {
   "cell_type": "code",
   "execution_count": 194,
   "metadata": {},
   "outputs": [],
   "source": [
    "# Function to strip away the kgs and lbs from the weight column and convert the pounds to kgs\n",
    "def convert_weight(weight):\n",
    "    if 'kg' in weight:\n",
    "        return int(weight.strip('kg'))\n",
    "    else:\n",
    "        pounds = int(weight.strip('lbs'))\n",
    "        return round(pounds / 2.205)"
   ]
  },
  {
   "cell_type": "code",
   "execution_count": 195,
   "metadata": {},
   "outputs": [],
   "source": [
    "# Apply the function\n",
    "dataset['Weight_Kgs'] = dataset['Weight'].apply(convert_weight)"
   ]
  },
  {
   "cell_type": "code",
   "execution_count": 205,
   "metadata": {},
   "outputs": [],
   "source": [
    "dataset['Preferred Foot'] = dataset['Preferred Foot'].str.strip()"
   ]
  },
  {
   "cell_type": "code",
   "execution_count": 211,
   "metadata": {},
   "outputs": [],
   "source": [
    "dataset['Best Position'] = dataset['Best Position'].str.strip()"
   ]
  },
  {
   "cell_type": "code",
   "execution_count": 221,
   "metadata": {},
   "outputs": [],
   "source": [
    "# Function to strip K, M, and € and convert the values with K to millions\n",
    "def convert_value(value):\n",
    "    value = str(value).replace('€', '').strip()\n",
    "\n",
    "    if 'M' in value:\n",
    "        return float(value.replace('M', '').strip())\n",
    "    elif 'K' in value:\n",
    "        return float(value.replace('K', '').strip()) / 1000\n",
    "    \n",
    "    return(value)"
   ]
  },
  {
   "cell_type": "code",
   "execution_count": 222,
   "metadata": {},
   "outputs": [],
   "source": [
    "# Apply the function to the value column\n",
    "dataset['Value'] = dataset['Value'].apply(convert_value)"
   ]
  },
  {
   "cell_type": "code",
   "execution_count": 228,
   "metadata": {},
   "outputs": [],
   "source": [
    "dataset.rename(columns = {'Value' : 'Value_in_millions(€)'}, inplace = True)"
   ]
  },
  {
   "cell_type": "code",
   "execution_count": 232,
   "metadata": {},
   "outputs": [],
   "source": [
    "def convert_wage(wage):\n",
    "    wage = str(wage).replace(\"€\", \"\").strip()  # Remove € symbol\n",
    "\n",
    "    if \"K\" in wage:  # If wage is in thousands\n",
    "        return float(wage.replace(\"K\", \"\").strip())  # Remove 'K' and convert to float\n",
    "\n",
    "    return float(wage) / 1000  # Convert direct values to thousands "
   ]
  },
  {
   "cell_type": "code",
   "execution_count": 235,
   "metadata": {},
   "outputs": [],
   "source": [
    "dataset['Wage'] = dataset['Wage'].apply(convert_wage)"
   ]
  },
  {
   "cell_type": "code",
   "execution_count": 237,
   "metadata": {},
   "outputs": [],
   "source": [
    "dataset.rename(columns = {'Wage' : 'WeeklyWage_thousands(€)'}, inplace= True)"
   ]
  },
  {
   "cell_type": "code",
   "execution_count": 243,
   "metadata": {},
   "outputs": [],
   "source": [
    "dataset['Total Stats'] = dataset['Total Stats'].astype(str).str.strip()"
   ]
  },
  {
   "cell_type": "code",
   "execution_count": 247,
   "metadata": {},
   "outputs": [],
   "source": [
    "dataset['Base Stats'] = dataset['Base Stats'].astype(str).str.strip()"
   ]
  },
  {
   "cell_type": "code",
   "execution_count": 257,
   "metadata": {},
   "outputs": [],
   "source": [
    "# Function to strip K, M, and € and convert the values with K to millions\n",
    "def convert_clause(clause):\n",
    "    clause = str(clause).replace('€', '').strip()\n",
    "\n",
    "    if 'M' in clause:\n",
    "        return float(clause.replace('M', '').strip())\n",
    "    elif 'K' in clause:\n",
    "        return float(clause.replace('K', '').strip()) / 1000\n",
    "    \n",
    "    return(clause)"
   ]
  },
  {
   "cell_type": "code",
   "execution_count": 258,
   "metadata": {},
   "outputs": [],
   "source": [
    "dataset['Release Clause'] = dataset['Release Clause'].apply(convert_clause)"
   ]
  },
  {
   "cell_type": "code",
   "execution_count": 260,
   "metadata": {},
   "outputs": [],
   "source": [
    "dataset.rename(columns= {'Release Clause' : 'ReleaseClause_in_millions(€)'}, inplace= True)"
   ]
  },
  {
   "cell_type": "code",
   "execution_count": 267,
   "metadata": {},
   "outputs": [],
   "source": [
    "dataset['WeakFootRating(/5)'] = dataset['W/F'].str.replace(' ★', '').str.strip()"
   ]
  },
  {
   "cell_type": "code",
   "execution_count": 271,
   "metadata": {},
   "outputs": [],
   "source": [
    "dataset['WeakFootRating(/5)'] = dataset['WeakFootRating(/5)'].astype(int)"
   ]
  },
  {
   "cell_type": "code",
   "execution_count": 276,
   "metadata": {},
   "outputs": [],
   "source": [
    "dataset['SM'] = dataset['SM'].str.replace('★', '').str.strip()\n",
    "dataset['SM'] = dataset['SM'].astype(int)"
   ]
  },
  {
   "cell_type": "code",
   "execution_count": 284,
   "metadata": {},
   "outputs": [],
   "source": [
    "dataset['A/W'] = dataset['A/W'].str.strip()"
   ]
  },
  {
   "cell_type": "code",
   "execution_count": 289,
   "metadata": {},
   "outputs": [],
   "source": [
    "dataset['D/W'] = dataset['D/W'].str.strip()"
   ]
  },
  {
   "cell_type": "code",
   "execution_count": 292,
   "metadata": {},
   "outputs": [],
   "source": [
    "dataset['IR'] = dataset['IR'].str.replace('★', '').str.strip()\n",
    "dataset['IR'] = dataset['IR'].astype(int)"
   ]
  },
  {
   "cell_type": "code",
   "execution_count": 295,
   "metadata": {},
   "outputs": [],
   "source": [
    "column_to_drop = ['Contract','Weight','W/F','Joined']\n",
    "dataset.drop(columns = column_to_drop, inplace= True)"
   ]
  },
  {
   "cell_type": "code",
   "execution_count": 305,
   "metadata": {},
   "outputs": [],
   "source": [
    "dataset['Contract End'] = dataset['Contract End'].astype(str).str.replace('.0', '')"
   ]
  },
  {
   "cell_type": "code",
   "execution_count": 308,
   "metadata": {},
   "outputs": [],
   "source": [
    "dataset.drop(columns='Loan Date End', inplace= True)"
   ]
  },
  {
   "cell_type": "code",
   "execution_count": 318,
   "metadata": {},
   "outputs": [],
   "source": [
    "rearranging_columns = ['ID', 'LongName', 'Nationality', 'Age', 'Club', 'Height_Cm','Weight_Kgs',\n",
    "       'Preferred Foot', 'Best Position', 'Value_in_millions(€)',\n",
    "       'WeeklyWage_thousands(€)', 'ReleaseClause_in_millions(€)','Contract Start', 'Contract End', 'Contract Status',\n",
    "       'Total Stats', 'Base Stats', 'SM', 'A/W', 'D/W', 'IR', 'Joined Year',\n",
    "       'WeakFootRating(/5)']"
   ]
  },
  {
   "cell_type": "code",
   "execution_count": 319,
   "metadata": {},
   "outputs": [],
   "source": [
    "dataset =dataset[rearranging_columns]"
   ]
  },
  {
   "cell_type": "code",
   "execution_count": 323,
   "metadata": {},
   "outputs": [
    {
     "data": {
      "text/plain": [
       "np.int64(0)"
      ]
     },
     "execution_count": 323,
     "metadata": {},
     "output_type": "execute_result"
    }
   ],
   "source": [
    "#Identifying duplicates\n",
    "dataset.duplicated().sum()"
   ]
  },
  {
   "cell_type": "code",
   "execution_count": 324,
   "metadata": {},
   "outputs": [
    {
     "data": {
      "text/html": [
       "<div>\n",
       "<style scoped>\n",
       "    .dataframe tbody tr th:only-of-type {\n",
       "        vertical-align: middle;\n",
       "    }\n",
       "\n",
       "    .dataframe tbody tr th {\n",
       "        vertical-align: top;\n",
       "    }\n",
       "\n",
       "    .dataframe thead th {\n",
       "        text-align: right;\n",
       "    }\n",
       "</style>\n",
       "<table border=\"1\" class=\"dataframe\">\n",
       "  <thead>\n",
       "    <tr style=\"text-align: right;\">\n",
       "      <th></th>\n",
       "      <th>ID</th>\n",
       "      <th>LongName</th>\n",
       "      <th>Nationality</th>\n",
       "      <th>Age</th>\n",
       "      <th>Club</th>\n",
       "      <th>Height_Cm</th>\n",
       "      <th>Weight_Kgs</th>\n",
       "      <th>Preferred Foot</th>\n",
       "      <th>Best Position</th>\n",
       "      <th>Value_in_millions(€)</th>\n",
       "      <th>WeeklyWage_thousands(€)</th>\n",
       "      <th>ReleaseClause_in_millions(€)</th>\n",
       "      <th>Contract Start</th>\n",
       "      <th>Contract End</th>\n",
       "      <th>Contract Status</th>\n",
       "      <th>Total Stats</th>\n",
       "      <th>Base Stats</th>\n",
       "      <th>SM</th>\n",
       "      <th>A/W</th>\n",
       "      <th>D/W</th>\n",
       "      <th>IR</th>\n",
       "      <th>Joined Year</th>\n",
       "      <th>WeakFootRating(/5)</th>\n",
       "    </tr>\n",
       "  </thead>\n",
       "  <tbody>\n",
       "    <tr>\n",
       "      <th>0</th>\n",
       "      <td>158023</td>\n",
       "      <td>Lionel Messi</td>\n",
       "      <td>Argentina</td>\n",
       "      <td>33</td>\n",
       "      <td>FC Barcelona</td>\n",
       "      <td>170</td>\n",
       "      <td>72</td>\n",
       "      <td>Left</td>\n",
       "      <td>RW</td>\n",
       "      <td>103.5</td>\n",
       "      <td>560.0</td>\n",
       "      <td>138.4</td>\n",
       "      <td>2004</td>\n",
       "      <td>2021</td>\n",
       "      <td>On Contract</td>\n",
       "      <td>2231</td>\n",
       "      <td>466</td>\n",
       "      <td>4</td>\n",
       "      <td>Medium</td>\n",
       "      <td>Low</td>\n",
       "      <td>5</td>\n",
       "      <td>2004</td>\n",
       "      <td>4</td>\n",
       "    </tr>\n",
       "    <tr>\n",
       "      <th>1</th>\n",
       "      <td>20801</td>\n",
       "      <td>C. Ronaldo dos Santos Aveiro</td>\n",
       "      <td>Portugal</td>\n",
       "      <td>35</td>\n",
       "      <td>Juventus</td>\n",
       "      <td>187</td>\n",
       "      <td>83</td>\n",
       "      <td>Right</td>\n",
       "      <td>ST</td>\n",
       "      <td>63.0</td>\n",
       "      <td>220.0</td>\n",
       "      <td>75.9</td>\n",
       "      <td>2018</td>\n",
       "      <td>2022</td>\n",
       "      <td>On Contract</td>\n",
       "      <td>2221</td>\n",
       "      <td>464</td>\n",
       "      <td>5</td>\n",
       "      <td>High</td>\n",
       "      <td>Low</td>\n",
       "      <td>5</td>\n",
       "      <td>2018</td>\n",
       "      <td>4</td>\n",
       "    </tr>\n",
       "    <tr>\n",
       "      <th>2</th>\n",
       "      <td>200389</td>\n",
       "      <td>Jan Oblak</td>\n",
       "      <td>Slovenia</td>\n",
       "      <td>27</td>\n",
       "      <td>Atlético Madrid</td>\n",
       "      <td>188</td>\n",
       "      <td>87</td>\n",
       "      <td>Right</td>\n",
       "      <td>GK</td>\n",
       "      <td>120.0</td>\n",
       "      <td>125.0</td>\n",
       "      <td>159.4</td>\n",
       "      <td>2014</td>\n",
       "      <td>2023</td>\n",
       "      <td>On Contract</td>\n",
       "      <td>1413</td>\n",
       "      <td>489</td>\n",
       "      <td>1</td>\n",
       "      <td>Medium</td>\n",
       "      <td>Medium</td>\n",
       "      <td>3</td>\n",
       "      <td>2014</td>\n",
       "      <td>3</td>\n",
       "    </tr>\n",
       "    <tr>\n",
       "      <th>3</th>\n",
       "      <td>192985</td>\n",
       "      <td>Kevin De Bruyne</td>\n",
       "      <td>Belgium</td>\n",
       "      <td>29</td>\n",
       "      <td>Manchester City</td>\n",
       "      <td>181</td>\n",
       "      <td>70</td>\n",
       "      <td>Right</td>\n",
       "      <td>CAM</td>\n",
       "      <td>129.0</td>\n",
       "      <td>370.0</td>\n",
       "      <td>161.0</td>\n",
       "      <td>2015</td>\n",
       "      <td>2023</td>\n",
       "      <td>On Contract</td>\n",
       "      <td>2304</td>\n",
       "      <td>485</td>\n",
       "      <td>4</td>\n",
       "      <td>High</td>\n",
       "      <td>High</td>\n",
       "      <td>4</td>\n",
       "      <td>2015</td>\n",
       "      <td>5</td>\n",
       "    </tr>\n",
       "    <tr>\n",
       "      <th>4</th>\n",
       "      <td>190871</td>\n",
       "      <td>Neymar da Silva Santos Jr.</td>\n",
       "      <td>Brazil</td>\n",
       "      <td>28</td>\n",
       "      <td>Paris Saint-Germain</td>\n",
       "      <td>175</td>\n",
       "      <td>68</td>\n",
       "      <td>Right</td>\n",
       "      <td>LW</td>\n",
       "      <td>132.0</td>\n",
       "      <td>270.0</td>\n",
       "      <td>166.5</td>\n",
       "      <td>2017</td>\n",
       "      <td>2022</td>\n",
       "      <td>On Contract</td>\n",
       "      <td>2175</td>\n",
       "      <td>451</td>\n",
       "      <td>5</td>\n",
       "      <td>High</td>\n",
       "      <td>Medium</td>\n",
       "      <td>5</td>\n",
       "      <td>2017</td>\n",
       "      <td>5</td>\n",
       "    </tr>\n",
       "    <tr>\n",
       "      <th>5</th>\n",
       "      <td>188545</td>\n",
       "      <td>Robert Lewandowski</td>\n",
       "      <td>Poland</td>\n",
       "      <td>31</td>\n",
       "      <td>FC Bayern München</td>\n",
       "      <td>184</td>\n",
       "      <td>80</td>\n",
       "      <td>Right</td>\n",
       "      <td>ST</td>\n",
       "      <td>111.0</td>\n",
       "      <td>240.0</td>\n",
       "      <td>132.0</td>\n",
       "      <td>2014</td>\n",
       "      <td>2023</td>\n",
       "      <td>On Contract</td>\n",
       "      <td>2195</td>\n",
       "      <td>457</td>\n",
       "      <td>4</td>\n",
       "      <td>High</td>\n",
       "      <td>Medium</td>\n",
       "      <td>4</td>\n",
       "      <td>2014</td>\n",
       "      <td>4</td>\n",
       "    </tr>\n",
       "    <tr>\n",
       "      <th>6</th>\n",
       "      <td>209331</td>\n",
       "      <td>Mohamed Salah</td>\n",
       "      <td>Egypt</td>\n",
       "      <td>28</td>\n",
       "      <td>Liverpool</td>\n",
       "      <td>175</td>\n",
       "      <td>71</td>\n",
       "      <td>Left</td>\n",
       "      <td>RW</td>\n",
       "      <td>120.5</td>\n",
       "      <td>250.0</td>\n",
       "      <td>144.3</td>\n",
       "      <td>2017</td>\n",
       "      <td>2023</td>\n",
       "      <td>On Contract</td>\n",
       "      <td>2211</td>\n",
       "      <td>470</td>\n",
       "      <td>4</td>\n",
       "      <td>High</td>\n",
       "      <td>Medium</td>\n",
       "      <td>3</td>\n",
       "      <td>2017</td>\n",
       "      <td>3</td>\n",
       "    </tr>\n",
       "    <tr>\n",
       "      <th>7</th>\n",
       "      <td>212831</td>\n",
       "      <td>Alisson Ramses Becker</td>\n",
       "      <td>Brazil</td>\n",
       "      <td>27</td>\n",
       "      <td>Liverpool</td>\n",
       "      <td>191</td>\n",
       "      <td>91</td>\n",
       "      <td>Right</td>\n",
       "      <td>GK</td>\n",
       "      <td>102.0</td>\n",
       "      <td>160.0</td>\n",
       "      <td>120.3</td>\n",
       "      <td>2018</td>\n",
       "      <td>2024</td>\n",
       "      <td>On Contract</td>\n",
       "      <td>1389</td>\n",
       "      <td>490</td>\n",
       "      <td>1</td>\n",
       "      <td>Medium</td>\n",
       "      <td>Medium</td>\n",
       "      <td>3</td>\n",
       "      <td>2018</td>\n",
       "      <td>3</td>\n",
       "    </tr>\n",
       "    <tr>\n",
       "      <th>8</th>\n",
       "      <td>231747</td>\n",
       "      <td>Kylian Mbappé</td>\n",
       "      <td>France</td>\n",
       "      <td>21</td>\n",
       "      <td>Paris Saint-Germain</td>\n",
       "      <td>178</td>\n",
       "      <td>73</td>\n",
       "      <td>Right</td>\n",
       "      <td>ST</td>\n",
       "      <td>185.5</td>\n",
       "      <td>160.0</td>\n",
       "      <td>203.1</td>\n",
       "      <td>2018</td>\n",
       "      <td>2022</td>\n",
       "      <td>On Contract</td>\n",
       "      <td>2147</td>\n",
       "      <td>466</td>\n",
       "      <td>5</td>\n",
       "      <td>High</td>\n",
       "      <td>Low</td>\n",
       "      <td>3</td>\n",
       "      <td>2018</td>\n",
       "      <td>4</td>\n",
       "    </tr>\n",
       "    <tr>\n",
       "      <th>9</th>\n",
       "      <td>192448</td>\n",
       "      <td>Marc-André ter Stegen</td>\n",
       "      <td>Germany</td>\n",
       "      <td>28</td>\n",
       "      <td>FC Barcelona</td>\n",
       "      <td>187</td>\n",
       "      <td>85</td>\n",
       "      <td>Right</td>\n",
       "      <td>GK</td>\n",
       "      <td>110.0</td>\n",
       "      <td>260.0</td>\n",
       "      <td>147.7</td>\n",
       "      <td>2014</td>\n",
       "      <td>2022</td>\n",
       "      <td>On Contract</td>\n",
       "      <td>1442</td>\n",
       "      <td>484</td>\n",
       "      <td>1</td>\n",
       "      <td>Medium</td>\n",
       "      <td>Medium</td>\n",
       "      <td>3</td>\n",
       "      <td>2014</td>\n",
       "      <td>4</td>\n",
       "    </tr>\n",
       "  </tbody>\n",
       "</table>\n",
       "</div>"
      ],
      "text/plain": [
       "       ID                      LongName Nationality  Age                 Club  \\\n",
       "0  158023                  Lionel Messi   Argentina   33         FC Barcelona   \n",
       "1   20801  C. Ronaldo dos Santos Aveiro    Portugal   35             Juventus   \n",
       "2  200389                     Jan Oblak    Slovenia   27      Atlético Madrid   \n",
       "3  192985               Kevin De Bruyne     Belgium   29      Manchester City   \n",
       "4  190871    Neymar da Silva Santos Jr.      Brazil   28  Paris Saint-Germain   \n",
       "5  188545            Robert Lewandowski      Poland   31    FC Bayern München   \n",
       "6  209331                 Mohamed Salah       Egypt   28            Liverpool   \n",
       "7  212831         Alisson Ramses Becker      Brazil   27            Liverpool   \n",
       "8  231747                 Kylian Mbappé      France   21  Paris Saint-Germain   \n",
       "9  192448         Marc-André ter Stegen     Germany   28         FC Barcelona   \n",
       "\n",
       "   Height_Cm  Weight_Kgs Preferred Foot Best Position Value_in_millions(€)  \\\n",
       "0        170          72           Left            RW                103.5   \n",
       "1        187          83          Right            ST                 63.0   \n",
       "2        188          87          Right            GK                120.0   \n",
       "3        181          70          Right           CAM                129.0   \n",
       "4        175          68          Right            LW                132.0   \n",
       "5        184          80          Right            ST                111.0   \n",
       "6        175          71           Left            RW                120.5   \n",
       "7        191          91          Right            GK                102.0   \n",
       "8        178          73          Right            ST                185.5   \n",
       "9        187          85          Right            GK                110.0   \n",
       "\n",
       "   WeeklyWage_thousands(€) ReleaseClause_in_millions(€)  Contract Start  \\\n",
       "0                    560.0                        138.4            2004   \n",
       "1                    220.0                         75.9            2018   \n",
       "2                    125.0                        159.4            2014   \n",
       "3                    370.0                        161.0            2015   \n",
       "4                    270.0                        166.5            2017   \n",
       "5                    240.0                        132.0            2014   \n",
       "6                    250.0                        144.3            2017   \n",
       "7                    160.0                        120.3            2018   \n",
       "8                    160.0                        203.1            2018   \n",
       "9                    260.0                        147.7            2014   \n",
       "\n",
       "  Contract End Contract Status Total Stats Base Stats  SM     A/W     D/W  IR  \\\n",
       "0         2021     On Contract        2231        466   4  Medium     Low   5   \n",
       "1         2022     On Contract        2221        464   5    High     Low   5   \n",
       "2         2023     On Contract        1413        489   1  Medium  Medium   3   \n",
       "3         2023     On Contract        2304        485   4    High    High   4   \n",
       "4         2022     On Contract        2175        451   5    High  Medium   5   \n",
       "5         2023     On Contract        2195        457   4    High  Medium   4   \n",
       "6         2023     On Contract        2211        470   4    High  Medium   3   \n",
       "7         2024     On Contract        1389        490   1  Medium  Medium   3   \n",
       "8         2022     On Contract        2147        466   5    High     Low   3   \n",
       "9         2022     On Contract        1442        484   1  Medium  Medium   3   \n",
       "\n",
       "   Joined Year  WeakFootRating(/5)  \n",
       "0         2004                   4  \n",
       "1         2018                   4  \n",
       "2         2014                   3  \n",
       "3         2015                   5  \n",
       "4         2017                   5  \n",
       "5         2014                   4  \n",
       "6         2017                   3  \n",
       "7         2018                   3  \n",
       "8         2018                   4  \n",
       "9         2014                   4  "
      ]
     },
     "execution_count": 324,
     "metadata": {},
     "output_type": "execute_result"
    }
   ],
   "source": [
    "dataset.head(10)"
   ]
  }
 ],
 "metadata": {
  "kernelspec": {
   "display_name": "Python 3",
   "language": "python",
   "name": "python3"
  },
  "language_info": {
   "codemirror_mode": {
    "name": "ipython",
    "version": 3
   },
   "file_extension": ".py",
   "mimetype": "text/x-python",
   "name": "python",
   "nbconvert_exporter": "python",
   "pygments_lexer": "ipython3",
   "version": "3.13.0"
  }
 },
 "nbformat": 4,
 "nbformat_minor": 2
}
