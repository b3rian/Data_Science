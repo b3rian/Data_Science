{
 "cells": [
  {
   "cell_type": "code",
   "execution_count": 1,
   "metadata": {},
   "outputs": [],
   "source": [
    "import pandas as pd\n",
    "import numpy as np"
   ]
  },
  {
   "cell_type": "code",
   "execution_count": 168,
   "metadata": {},
   "outputs": [
    {
     "name": "stderr",
     "output_type": "stream",
     "text": [
      "C:\\Users\\ADMIN\\AppData\\Local\\Temp\\ipykernel_6588\\584168978.py:2: DtypeWarning: Columns (76) have mixed types. Specify dtype option on import or set low_memory=False.\n",
      "  dataset = pd.read_csv(r\"C:\\Users\\ADMIN\\Downloads\\fifa21 raw data v2.csv\")\n"
     ]
    }
   ],
   "source": [
    "pd.set_option('display.max_columns', None) # display all columns in the dataset\n",
    "dataset = pd.read_csv(r\"C:\\Users\\ADMIN\\Downloads\\fifa21 raw data v2.csv\")\n"
   ]
  },
  {
   "cell_type": "code",
   "execution_count": 173,
   "metadata": {},
   "outputs": [],
   "source": [
    "# Remove unnecessary columns\n",
    "columns_to_drop = ['Attacking', 'Crossing', 'Finishing',\n",
    "       'Heading Accuracy', 'Short Passing', 'Volleys', 'Skill', 'Dribbling',\n",
    "       'Curve', 'FK Accuracy', 'Long Passing', 'Ball Control', 'Movement',\n",
    "       'Acceleration', 'Sprint Speed', 'Agility', 'Reactions', 'Balance',\n",
    "       'Power', 'Shot Power', 'Jumping', 'Stamina', 'Strength', 'Long Shots',\n",
    "       'Mentality', 'Aggression', 'Interceptions', 'Positioning', 'Vision',\n",
    "       'Penalties', 'Composure', 'Defending', 'Marking', 'Standing Tackle',\n",
    "       'Sliding Tackle', 'Goalkeeping', 'GK Diving', 'GK Handling',\n",
    "       'GK Kicking', 'GK Positioning', 'GK Reflexes','Name','photoUrl', 'playerUrl','↓OVA', 'POT', 'Positions','BOV', 'PAC', 'SHO', 'PAS',\n",
    "       'DRI', 'DEF', 'PHY', 'Hits']"
   ]
  },
  {
   "cell_type": "code",
   "execution_count": 174,
   "metadata": {},
   "outputs": [],
   "source": [
    "dataset.drop(columns = columns_to_drop, inplace= True)"
   ]
  },
  {
   "cell_type": "code",
   "execution_count": 175,
   "metadata": {},
   "outputs": [],
   "source": [
    "dataset['LongName'] = dataset['LongName'].str.strip()"
   ]
  },
  {
   "cell_type": "code",
   "execution_count": 176,
   "metadata": {},
   "outputs": [],
   "source": [
    "dataset['Nationality'] = dataset['Nationality'].str.strip()"
   ]
  },
  {
   "cell_type": "code",
   "execution_count": 177,
   "metadata": {},
   "outputs": [],
   "source": [
    "dataset['Age'] = dataset['Age'].astype(str).str.strip()"
   ]
  },
  {
   "cell_type": "code",
   "execution_count": 178,
   "metadata": {},
   "outputs": [],
   "source": [
    "dataset['Age'] = pd.to_numeric(dataset['Age'])"
   ]
  },
  {
   "cell_type": "code",
   "execution_count": 179,
   "metadata": {},
   "outputs": [],
   "source": [
    "dataset['Club'] = dataset['Club'].replace('\\n\\n\\n\\n', '').str.strip()"
   ]
  },
  {
   "cell_type": "code",
   "execution_count": 180,
   "metadata": {},
   "outputs": [],
   "source": [
    "# Convert the joined column to the correct datetime format \n",
    "dataset['Joined'] = pd.to_datetime(dataset['Joined'], format='%d-%b-%y', errors='coerce')"
   ]
  },
  {
   "cell_type": "code",
   "execution_count": 181,
   "metadata": {},
   "outputs": [],
   "source": [
    "# Extracting the year from the joined column\n",
    "dataset['Joined Year'] = dataset['Joined'].dt.year"
   ]
  },
  {
   "cell_type": "code",
   "execution_count": 182,
   "metadata": {},
   "outputs": [],
   "source": [
    "# Function to process contract column\n",
    "def process_contract(row):\n",
    "    contract = str(row['Contract']).strip()\n",
    "    joined_year = row['Joined Year']\n",
    "\n",
    "    if '~' in contract:  # Standard contract format \"YYYY~YYYY\"\n",
    "        start, end = contract.split('~')\n",
    "        return pd.Series([start.strip(), end.strip(), 'On Contract'])\n",
    "\n",
    "    elif 'On Loan' in contract:  # Loan format \"Month Day, Year On Loan\"\n",
    "        end_year = contract[-9:-5]  # Extract the year from end date\n",
    "        return pd.Series([joined_year, end_year, 'On Loan'])\n",
    "\n",
    "    elif 'Free' in contract:  # Free agent\n",
    "        return pd.Series([joined_year, np.nan, 'Free'])\n",
    "\n",
    "    else:  # If none of the above (unexpected case)\n",
    "        return pd.Series([np.nan, np.nan, 'Unknown'])\n",
    " \n"
   ]
  },
  {
   "cell_type": "code",
   "execution_count": 183,
   "metadata": {},
   "outputs": [],
   "source": [
    "# Apply function to create new columns\n",
    "dataset[['Contract Start', 'Contract End', 'Contract Status']] = dataset.apply(process_contract, axis=1)\n",
    "\n",
    "# Convert contract years to numeric format\n",
    "dataset['Contract Start'] = pd.to_numeric(dataset['Contract Start'], errors='coerce')\n",
    "dataset['Contract End'] = pd.to_numeric(dataset['Contract End'], errors='coerce')"
   ]
  },
  {
   "cell_type": "code",
   "execution_count": 170,
   "metadata": {},
   "outputs": [],
   "source": [
    "def convert_height(height):\n",
    "    if 'cm' in height:\n",
    "        return int(height.strip('cm'))\n",
    "    else:\n",
    "        feet, inches = height.split(\"'\")\n",
    "        total_inches = int(feet) * 12 + int(inches.strip('\"'))\n",
    "        return round(total_inches * 2.54)"
   ]
  },
  {
   "cell_type": "code",
   "execution_count": null,
   "metadata": {},
   "outputs": [],
   "source": [
    "# Apply the function to the height column\n",
    "dataset['Height'] = dataset['Height'].apply(convert_height)"
   ]
  },
  {
   "cell_type": "code",
   "execution_count": 190,
   "metadata": {},
   "outputs": [],
   "source": [
    "# Rename the height column\n",
    "dataset.rename(columns = {'Height' : 'Height_Cm'}, inplace= True)"
   ]
  },
  {
   "cell_type": "code",
   "execution_count": 194,
   "metadata": {},
   "outputs": [],
   "source": [
    "# Function to strip away the kgs and lbs from the weight column and convert the pounds to kgs\n",
    "def convert_weight(weight):\n",
    "    if 'kg' in weight:\n",
    "        return int(weight.strip('kg'))\n",
    "    else:\n",
    "        pounds = int(weight.strip('lbs'))\n",
    "        return round(pounds / 2.205)"
   ]
  },
  {
   "cell_type": "code",
   "execution_count": 195,
   "metadata": {},
   "outputs": [],
   "source": [
    "# Apply the function\n",
    "dataset['Weight_Kgs'] = dataset['Weight'].apply(convert_weight)"
   ]
  },
  {
   "cell_type": "code",
   "execution_count": 205,
   "metadata": {},
   "outputs": [],
   "source": [
    "dataset['Preferred Foot'] = dataset['Preferred Foot'].str.strip()"
   ]
  },
  {
   "cell_type": "code",
   "execution_count": 211,
   "metadata": {},
   "outputs": [],
   "source": [
    "dataset['Best Position'] = dataset['Best Position'].str.strip()"
   ]
  },
  {
   "cell_type": "code",
   "execution_count": 221,
   "metadata": {},
   "outputs": [],
   "source": [
    "# Function to strip K, M, and € and convert the values with K to millions\n",
    "def convert_value(value):\n",
    "    value = str(value).replace('€', '').strip()\n",
    "\n",
    "    if 'M' in value:\n",
    "        return float(value.replace('M', '').strip())\n",
    "    elif 'K' in value:\n",
    "        return float(value.replace('K', '').strip()) / 1000\n",
    "    \n",
    "    return(value)"
   ]
  },
  {
   "cell_type": "code",
   "execution_count": 222,
   "metadata": {},
   "outputs": [],
   "source": [
    "# Apply the function to the value column\n",
    "dataset['Value'] = dataset['Value'].apply(convert_value)"
   ]
  },
  {
   "cell_type": "code",
   "execution_count": 228,
   "metadata": {},
   "outputs": [],
   "source": [
    "dataset.rename(columns = {'Value' : 'Value_in_millions(€)'}, inplace = True)"
   ]
  },
  {
   "cell_type": "code",
   "execution_count": 232,
   "metadata": {},
   "outputs": [],
   "source": [
    "def convert_wage(wage):\n",
    "    wage = str(wage).replace(\"€\", \"\").strip()  # Remove € symbol\n",
    "\n",
    "    if \"K\" in wage:  # If wage is in thousands\n",
    "        return float(wage.replace(\"K\", \"\").strip())  # Remove 'K' and convert to float\n",
    "\n",
    "    return float(wage) / 1000  # Convert direct values to thousands "
   ]
  },
  {
   "cell_type": "code",
   "execution_count": 235,
   "metadata": {},
   "outputs": [],
   "source": [
    "dataset['Wage'] = dataset['Wage'].apply(convert_wage)"
   ]
  },
  {
   "cell_type": "code",
   "execution_count": 237,
   "metadata": {},
   "outputs": [],
   "source": [
    "dataset.rename(columns = {'Wage' : 'WeeklyWage_thousands(€)'}, inplace= True)"
   ]
  },
  {
   "cell_type": "code",
   "execution_count": 243,
   "metadata": {},
   "outputs": [],
   "source": [
    "dataset['Total Stats'] = dataset['Total Stats'].astype(str).str.strip()"
   ]
  },
  {
   "cell_type": "code",
   "execution_count": 247,
   "metadata": {},
   "outputs": [],
   "source": [
    "dataset['Base Stats'] = dataset['Base Stats'].astype(str).str.strip()"
   ]
  },
  {
   "cell_type": "code",
   "execution_count": 257,
   "metadata": {},
   "outputs": [],
   "source": [
    "# Function to strip K, M, and € and convert the values with K to millions\n",
    "def convert_clause(clause):\n",
    "    clause = str(clause).replace('€', '').strip()\n",
    "\n",
    "    if 'M' in clause:\n",
    "        return float(clause.replace('M', '').strip())\n",
    "    elif 'K' in clause:\n",
    "        return float(clause.replace('K', '').strip()) / 1000\n",
    "    \n",
    "    return(clause)"
   ]
  },
  {
   "cell_type": "code",
   "execution_count": 258,
   "metadata": {},
   "outputs": [],
   "source": [
    "dataset['Release Clause'] = dataset['Release Clause'].apply(convert_clause)"
   ]
  },
  {
   "cell_type": "code",
   "execution_count": 260,
   "metadata": {},
   "outputs": [],
   "source": [
    "dataset.rename(columns= {'Release Clause' : 'ReleaseClause_in_millions(€)'}, inplace= True)"
   ]
  },
  {
   "cell_type": "code",
   "execution_count": 267,
   "metadata": {},
   "outputs": [],
   "source": [
    "dataset['WeakFootRating(/5)'] = dataset['W/F'].str.replace(' ★', '').str.strip()"
   ]
  },
  {
   "cell_type": "code",
   "execution_count": 271,
   "metadata": {},
   "outputs": [],
   "source": [
    "dataset['WeakFootRating(/5)'] = dataset['WeakFootRating(/5)'].astype(int)"
   ]
  },
  {
   "cell_type": "code",
   "execution_count": 276,
   "metadata": {},
   "outputs": [],
   "source": [
    "dataset['SM'] = dataset['SM'].str.replace('★', '').str.strip()\n",
    "dataset['SM'] = dataset['SM'].astype(int)"
   ]
  },
  {
   "cell_type": "code",
   "execution_count": 284,
   "metadata": {},
   "outputs": [],
   "source": [
    "dataset['A/W'] = dataset['A/W'].str.strip()"
   ]
  },
  {
   "cell_type": "code",
   "execution_count": 289,
   "metadata": {},
   "outputs": [],
   "source": [
    "dataset['D/W'] = dataset['D/W'].str.strip()"
   ]
  },
  {
   "cell_type": "code",
   "execution_count": 292,
   "metadata": {},
   "outputs": [],
   "source": [
    "dataset['IR'] = dataset['IR'].str.replace('★', '').str.strip()\n",
    "dataset['IR'] = dataset['IR'].astype(int)"
   ]
  },
  {
   "cell_type": "code",
   "execution_count": 295,
   "metadata": {},
   "outputs": [],
   "source": [
    "column_to_drop = ['Contract','Weight','W/F','Joined']\n",
    "dataset.drop(columns = column_to_drop, inplace= True)"
   ]
  },
  {
   "cell_type": "code",
   "execution_count": 305,
   "metadata": {},
   "outputs": [],
   "source": [
    "dataset['Contract End'] = dataset['Contract End'].astype(str).str.replace('.0', '')"
   ]
  },
  {
   "cell_type": "code",
   "execution_count": 308,
   "metadata": {},
   "outputs": [],
   "source": [
    "dataset.drop(columns='Loan Date End', inplace= True)"
   ]
  }
 ],
 "metadata": {
  "kernelspec": {
   "display_name": "Python 3",
   "language": "python",
   "name": "python3"
  },
  "language_info": {
   "codemirror_mode": {
    "name": "ipython",
    "version": 3
   },
   "file_extension": ".py",
   "mimetype": "text/x-python",
   "name": "python",
   "nbconvert_exporter": "python",
   "pygments_lexer": "ipython3",
   "version": "3.13.0"
  }
 },
 "nbformat": 4,
 "nbformat_minor": 2
}
