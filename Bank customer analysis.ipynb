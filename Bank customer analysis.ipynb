{
 "cells": [
  {
   "cell_type": "code",
   "execution_count": 1,
   "metadata": {},
   "outputs": [],
   "source": [
    "import pandas as pd\n",
    "import seaborn as sns\n",
    "import matplotlib.pyplot as plt"
   ]
  },
  {
   "cell_type": "markdown",
   "metadata": {},
   "source": [
    "# Loading the Datasets "
   ]
  },
  {
   "cell_type": "code",
   "execution_count": 2,
   "metadata": {},
   "outputs": [],
   "source": [
    "dataset = pd.read_csv(r\"C:\\Users\\ADMIN\\OneDrive\\Documents\\Datasets\\Bank+Customer+Churn\\Bank_Churn_Data_Dictionary.csv\")\n",
    "dataset2 = pd.read_excel(r\"C:\\Users\\ADMIN\\OneDrive\\Documents\\Datasets\\Bank+Customer+Churn\\Bank_Churn_Messy.xlsx\", sheet_name=None)\n",
    "dataset3 = pd.read_csv(r\"C:\\Users\\ADMIN\\OneDrive\\Documents\\Datasets\\Bank+Customer+Churn\\Bank_Churn.csv\")"
   ]
  },
  {
   "cell_type": "code",
   "execution_count": 3,
   "metadata": {},
   "outputs": [],
   "source": [
    "# Extracting the sheets from the excel file\n",
    "\n",
    "Customer_info = dataset2['Customer_Info']\n",
    "Account_info = dataset2['Account_Info']\n",
    "\n",
    "# Merging them into one DataFrame\n",
    "merged_df = pd.merge(Customer_info, Account_info, on = 'CustomerId', how = 'inner')\n"
   ]
  },
  {
   "cell_type": "markdown",
   "metadata": {},
   "source": [
    "## Data Cleaning\n"
   ]
  },
  {
   "cell_type": "code",
   "execution_count": 4,
   "metadata": {},
   "outputs": [],
   "source": [
    "# Dropping unnecessary columns\n",
    "merged_df.drop(columns = ['Tenure_x'], inplace = True)\n",
    "merged_df.rename(columns = {'Tenure_y': 'Tenure'}, inplace = True)"
   ]
  },
  {
   "cell_type": "code",
   "execution_count": 5,
   "metadata": {},
   "outputs": [
    {
     "data": {
      "text/html": [
       "<div>\n",
       "<style scoped>\n",
       "    .dataframe tbody tr th:only-of-type {\n",
       "        vertical-align: middle;\n",
       "    }\n",
       "\n",
       "    .dataframe tbody tr th {\n",
       "        vertical-align: top;\n",
       "    }\n",
       "\n",
       "    .dataframe thead th {\n",
       "        text-align: right;\n",
       "    }\n",
       "</style>\n",
       "<table border=\"1\" class=\"dataframe\">\n",
       "  <thead>\n",
       "    <tr style=\"text-align: right;\">\n",
       "      <th></th>\n",
       "      <th>CustomerId</th>\n",
       "      <th>Surname</th>\n",
       "      <th>CreditScore</th>\n",
       "      <th>Geography</th>\n",
       "      <th>Gender</th>\n",
       "      <th>Age</th>\n",
       "      <th>EstimatedSalary</th>\n",
       "      <th>Balance</th>\n",
       "      <th>NumOfProducts</th>\n",
       "      <th>HasCrCard</th>\n",
       "      <th>Tenure</th>\n",
       "      <th>IsActiveMember</th>\n",
       "      <th>Exited</th>\n",
       "    </tr>\n",
       "  </thead>\n",
       "  <tbody>\n",
       "    <tr>\n",
       "      <th>0</th>\n",
       "      <td>15634602</td>\n",
       "      <td>Hargrave</td>\n",
       "      <td>619</td>\n",
       "      <td>FRA</td>\n",
       "      <td>Female</td>\n",
       "      <td>42.0</td>\n",
       "      <td>€101348.88</td>\n",
       "      <td>€0.0</td>\n",
       "      <td>1</td>\n",
       "      <td>Yes</td>\n",
       "      <td>2</td>\n",
       "      <td>Yes</td>\n",
       "      <td>1</td>\n",
       "    </tr>\n",
       "    <tr>\n",
       "      <th>1</th>\n",
       "      <td>15634602</td>\n",
       "      <td>Hargrave</td>\n",
       "      <td>619</td>\n",
       "      <td>FRA</td>\n",
       "      <td>Female</td>\n",
       "      <td>42.0</td>\n",
       "      <td>€101348.88</td>\n",
       "      <td>€0.0</td>\n",
       "      <td>1</td>\n",
       "      <td>Yes</td>\n",
       "      <td>2</td>\n",
       "      <td>Yes</td>\n",
       "      <td>1</td>\n",
       "    </tr>\n",
       "    <tr>\n",
       "      <th>10000</th>\n",
       "      <td>15628319</td>\n",
       "      <td>Walker</td>\n",
       "      <td>792</td>\n",
       "      <td>French</td>\n",
       "      <td>Female</td>\n",
       "      <td>28.0</td>\n",
       "      <td>€38190.78</td>\n",
       "      <td>€130142.79</td>\n",
       "      <td>1</td>\n",
       "      <td>No</td>\n",
       "      <td>4</td>\n",
       "      <td>No</td>\n",
       "      <td>0</td>\n",
       "    </tr>\n",
       "    <tr>\n",
       "      <th>10001</th>\n",
       "      <td>15628319</td>\n",
       "      <td>Walker</td>\n",
       "      <td>792</td>\n",
       "      <td>French</td>\n",
       "      <td>Female</td>\n",
       "      <td>28.0</td>\n",
       "      <td>€38190.78</td>\n",
       "      <td>€130142.79</td>\n",
       "      <td>1</td>\n",
       "      <td>No</td>\n",
       "      <td>4</td>\n",
       "      <td>No</td>\n",
       "      <td>0</td>\n",
       "    </tr>\n",
       "    <tr>\n",
       "      <th>10002</th>\n",
       "      <td>15628319</td>\n",
       "      <td>Walker</td>\n",
       "      <td>792</td>\n",
       "      <td>French</td>\n",
       "      <td>Female</td>\n",
       "      <td>28.0</td>\n",
       "      <td>€38190.78</td>\n",
       "      <td>€130142.79</td>\n",
       "      <td>1</td>\n",
       "      <td>No</td>\n",
       "      <td>4</td>\n",
       "      <td>No</td>\n",
       "      <td>0</td>\n",
       "    </tr>\n",
       "    <tr>\n",
       "      <th>10003</th>\n",
       "      <td>15628319</td>\n",
       "      <td>Walker</td>\n",
       "      <td>792</td>\n",
       "      <td>French</td>\n",
       "      <td>Female</td>\n",
       "      <td>28.0</td>\n",
       "      <td>€38190.78</td>\n",
       "      <td>€130142.79</td>\n",
       "      <td>1</td>\n",
       "      <td>No</td>\n",
       "      <td>4</td>\n",
       "      <td>No</td>\n",
       "      <td>0</td>\n",
       "    </tr>\n",
       "  </tbody>\n",
       "</table>\n",
       "</div>"
      ],
      "text/plain": [
       "       CustomerId   Surname  CreditScore Geography  Gender   Age  \\\n",
       "0        15634602  Hargrave          619       FRA  Female  42.0   \n",
       "1        15634602  Hargrave          619       FRA  Female  42.0   \n",
       "10000    15628319    Walker          792    French  Female  28.0   \n",
       "10001    15628319    Walker          792    French  Female  28.0   \n",
       "10002    15628319    Walker          792    French  Female  28.0   \n",
       "10003    15628319    Walker          792    French  Female  28.0   \n",
       "\n",
       "      EstimatedSalary     Balance  NumOfProducts HasCrCard  Tenure  \\\n",
       "0          €101348.88        €0.0              1       Yes       2   \n",
       "1          €101348.88        €0.0              1       Yes       2   \n",
       "10000       €38190.78  €130142.79              1        No       4   \n",
       "10001       €38190.78  €130142.79              1        No       4   \n",
       "10002       €38190.78  €130142.79              1        No       4   \n",
       "10003       €38190.78  €130142.79              1        No       4   \n",
       "\n",
       "      IsActiveMember  Exited  \n",
       "0                Yes       1  \n",
       "1                Yes       1  \n",
       "10000             No       0  \n",
       "10001             No       0  \n",
       "10002             No       0  \n",
       "10003             No       0  "
      ]
     },
     "execution_count": 5,
     "metadata": {},
     "output_type": "execute_result"
    }
   ],
   "source": [
    "merged_df.duplicated() # checking for duplicates\n",
    "merged_df[merged_df.duplicated(keep=False)] "
   ]
  },
  {
   "cell_type": "code",
   "execution_count": 6,
   "metadata": {},
   "outputs": [],
   "source": [
    "merged_df.drop_duplicates(inplace = True) # dropping duplicates"
   ]
  },
  {
   "cell_type": "code",
   "execution_count": 7,
   "metadata": {},
   "outputs": [],
   "source": [
    "merged_df.reset_index(drop=True, inplace=True) # resetting the index"
   ]
  },
  {
   "cell_type": "code",
   "execution_count": 8,
   "metadata": {},
   "outputs": [],
   "source": [
    "# Getting the first three indices of NaN values in the 'Surname' column\n",
    "nan_indices = merged_df[merged_df['Surname'].isna()].index[:3]\n",
    "\n",
    "replacements = ['McWilliams', 'Lombardo', 'Kennedy']\n",
    "\n",
    "# Replacing the NaN values with the replacements\n",
    "merged_df.loc[nan_indices, 'Surname'] = replacements"
   ]
  },
  {
   "cell_type": "code",
   "execution_count": 9,
   "metadata": {},
   "outputs": [],
   "source": [
    "# Getting the first three indices of NaN values in the 'Age' column\n",
    "nan_indices = merged_df[merged_df['Age'].isna()].index[:3]\n",
    "\n",
    "# Creating a list of replacements for the NaN values\n",
    "replacements = [43,39,32]\n",
    "\n",
    "# Replacing the NaN values with the replacements\n",
    "merged_df.loc[nan_indices, 'Age'] = replacements"
   ]
  },
  {
   "cell_type": "code",
   "execution_count": 20,
   "metadata": {},
   "outputs": [],
   "source": [
    "# Getting the first three indices of values in the 'EstimatedSalary' column\n",
    "indices = merged_df[merged_df['EstimatedSalary'] == -999999.00].index[:3]\n",
    "\n",
    "# Creating a list of replacements for the NaN values\n",
    "replacements = [67859.00,123985.38,32230.09]\n",
    "\n",
    "# Replacing the NaN values with the replacements\n",
    "merged_df.loc[indices, 'EstimatedSalary'] = replacements"
   ]
  },
  {
   "cell_type": "code",
   "execution_count": 11,
   "metadata": {},
   "outputs": [],
   "source": [
    "merged_df['Surname'] = merged_df['Surname'].str.strip() # stripping the Surname column"
   ]
  },
  {
   "cell_type": "code",
   "execution_count": 12,
   "metadata": {},
   "outputs": [],
   "source": [
    "# replacing the values in the Geography column\n",
    "merged_df['Geography'] = merged_df['Geography'].replace({'FRA': 'France','French': 'France'})  "
   ]
  },
  {
   "cell_type": "code",
   "execution_count": 13,
   "metadata": {},
   "outputs": [],
   "source": [
    "merged_df['Age'] = merged_df['Age'].astype(int) # converting the Age column to int"
   ]
  },
  {
   "cell_type": "code",
   "execution_count": 14,
   "metadata": {},
   "outputs": [],
   "source": [
    "# replacing the €\n",
    "merged_df['EstimatedSalary'] = merged_df['EstimatedSalary'].str.replace('€', '')\n",
    "merged_df['Balance'] = merged_df['Balance'].str.replace('€', '') "
   ]
  },
  {
   "cell_type": "code",
   "execution_count": 15,
   "metadata": {},
   "outputs": [],
   "source": [
    "merged_df['Balance'] = merged_df['Balance'].astype(float) # converting the Balance column to float\n",
    "merged_df['EstimatedSalary'] = merged_df['EstimatedSalary'].astype(float) # converting the EstimatedSalary column to float"
   ]
  },
  {
   "cell_type": "code",
   "execution_count": 16,
   "metadata": {},
   "outputs": [],
   "source": [
    "# converting the HasCrCard column to int\n",
    "merged_df['HasCrCard'] = merged_df['HasCrCard'].map({'Yes' : 1, 'No': 0}).astype(int)  "
   ]
  },
  {
   "cell_type": "code",
   "execution_count": 17,
   "metadata": {},
   "outputs": [],
   "source": [
    "# converting the IsActiveMember column to int\n",
    "merged_df['IsActiveMember'] = merged_df['IsActiveMember'].map({'Yes' : 1, 'No': 0}).astype(int)  "
   ]
  },
  {
   "cell_type": "code",
   "execution_count": 18,
   "metadata": {},
   "outputs": [],
   "source": [
    "# Cleaned Data\n",
    "merged_df.to_csv('cleaned_bank_customer.csv')\n"
   ]
  },
  {
   "cell_type": "markdown",
   "metadata": {},
   "source": [
    "# Exploratory Data Analysis"
   ]
  },
  {
   "cell_type": "code",
   "execution_count": 19,
   "metadata": {},
   "outputs": [
    {
     "data": {
      "text/html": [
       "<div>\n",
       "<style scoped>\n",
       "    .dataframe tbody tr th:only-of-type {\n",
       "        vertical-align: middle;\n",
       "    }\n",
       "\n",
       "    .dataframe tbody tr th {\n",
       "        vertical-align: top;\n",
       "    }\n",
       "\n",
       "    .dataframe thead th {\n",
       "        text-align: right;\n",
       "    }\n",
       "</style>\n",
       "<table border=\"1\" class=\"dataframe\">\n",
       "  <thead>\n",
       "    <tr style=\"text-align: right;\">\n",
       "      <th>Exited</th>\n",
       "      <th>0</th>\n",
       "      <th>1</th>\n",
       "    </tr>\n",
       "    <tr>\n",
       "      <th>Gender</th>\n",
       "      <th></th>\n",
       "      <th></th>\n",
       "    </tr>\n",
       "  </thead>\n",
       "  <tbody>\n",
       "    <tr>\n",
       "      <th>Female</th>\n",
       "      <td>74.928461</td>\n",
       "      <td>25.071539</td>\n",
       "    </tr>\n",
       "    <tr>\n",
       "      <th>Male</th>\n",
       "      <td>83.544072</td>\n",
       "      <td>16.455928</td>\n",
       "    </tr>\n",
       "    <tr>\n",
       "      <th>All</th>\n",
       "      <td>79.630000</td>\n",
       "      <td>20.370000</td>\n",
       "    </tr>\n",
       "  </tbody>\n",
       "</table>\n",
       "</div>"
      ],
      "text/plain": [
       "Exited          0          1\n",
       "Gender                      \n",
       "Female  74.928461  25.071539\n",
       "Male    83.544072  16.455928\n",
       "All     79.630000  20.370000"
      ]
     },
     "execution_count": 19,
     "metadata": {},
     "output_type": "execute_result"
    }
   ],
   "source": [
    "# Percentage of churn by gender where 1 = exited and 0 = not exited\n",
    "pd.crosstab(merged_df['Gender'], merged_df['Exited'], margins=True, normalize= 'index') * 100"
   ]
  },
  {
   "cell_type": "code",
   "execution_count": null,
   "metadata": {},
   "outputs": [],
   "source": [
    "plt.figure(figsize=(8, 6))\n",
    "sns.countplot(data=merged_df, x='Geography', hue='Gender', palette='Set2')\n",
    "plt.title(\"Gender Distribution by Geography\")\n",
    "plt.xlabel(\"Geography\")\n",
    "plt.ylabel(\"Count\")\n",
    "plt.legend(title=\"Gender\")\n",
    "plt.grid(True)\n",
    "plt.show()"
   ]
  },
  {
   "cell_type": "code",
   "execution_count": null,
   "metadata": {},
   "outputs": [],
   "source": [
    "pd.crosstab(merged_df['Geography'], merged_df['Gender'], margins=True, normalize= 'index') * 100\n"
   ]
  },
  {
   "cell_type": "code",
   "execution_count": null,
   "metadata": {},
   "outputs": [],
   "source": [
    "# Percentage of churn by geography where 1 = not exited and 0 = exited\n",
    "pd.crosstab(merged_df['Geography'], merged_df['Exited'], margins=True, normalize= 'index') * 100"
   ]
  },
  {
   "cell_type": "code",
   "execution_count": null,
   "metadata": {},
   "outputs": [],
   "source": [
    "pd.crosstab(merged_df['IsActiveMember'], merged_df['Exited'], margins=True, normalize= 'index') * 100"
   ]
  },
  {
   "cell_type": "code",
   "execution_count": null,
   "metadata": {},
   "outputs": [],
   "source": [
    "# distribution of Ages\n",
    "plt.figure(figsize=(8, 6))\n",
    "sns.histplot(data = merged_df, x = 'Age', kde = True, bins = 30)\n",
    "plt.title('Distribution of Age')\n",
    "plt.axvline(merged_df['Age'].mean(), color='red', linestyle='--', label='Mean Age')\n",
    "plt.axvline(merged_df['Age'].median(), color='green', linestyle='--', label='Median Age')\n",
    "plt.legend()\n",
    "plt.show()\n"
   ]
  },
  {
   "cell_type": "code",
   "execution_count": null,
   "metadata": {},
   "outputs": [],
   "source": [
    "# outliers in the Age column\n",
    "Q1 = 32\n",
    "Q3 = 44\n",
    "IQR = Q3 - Q1\n",
    "\n",
    "lower_bound = Q1 - 1.5 * IQR\n",
    "upper_bound = Q3 + 1.5 * IQR\n",
    "outliers = merged_df[(merged_df['Age'] < lower_bound) | (merged_df['Age'] > upper_bound)]\n",
    "print(f\"{len(outliers)} outliers ({len(outliers)/10000:.1%})\")"
   ]
  },
  {
   "cell_type": "code",
   "execution_count": null,
   "metadata": {},
   "outputs": [],
   "source": [
    "# distribution of Balance\n",
    "plt.figure(figsize=(8, 6))\n",
    "sns.histplot(data = merged_df, x = 'Balance', kde = True, bins = 50, log_scale=True, color='yellow')\n",
    "plt.axvline(merged_df['Balance'].mean(), color='red', linestyle='--', label='Mean Balance')\n",
    "plt.axvline(merged_df['Balance'].median(), color='green', linestyle='--', label='Median Balance')\n",
    "plt.title('Distribution of Balance')\n",
    "plt.legend()"
   ]
  },
  {
   "cell_type": "code",
   "execution_count": null,
   "metadata": {},
   "outputs": [],
   "source": [
    "# relationship between Age and Balance\n",
    "plt.figure(figsize=(8, 6))\n",
    "sns.scatterplot(data = merged_df, x = 'Age', y = 'CreditScore', alpha = 0.5, color = 'orange')\n",
    "plt.title('Scatterplot of Age vs Balance')\n",
    "plt.xlabel('Age')\n",
    "plt.ylabel('Balance')\n",
    "plt.show()\n"
   ]
  },
  {
   "cell_type": "code",
   "execution_count": null,
   "metadata": {},
   "outputs": [],
   "source": [
    "# correlation between Age and Balance\n",
    "correlation = merged_df['Age'].corr(merged_df['Balance'], method= 'pearson')\n",
    "print(f\"The correlation between Age and Balance is {correlation:.2f}\")"
   ]
  },
  {
   "cell_type": "code",
   "execution_count": null,
   "metadata": {},
   "outputs": [],
   "source": [
    "# balance distribution by Age group\n",
    "merged_df['AgeGroup'] = pd.cut(merged_df['Age'], bins=[18, 25, 35, 45, 55, 65, 100], \n",
    "                               labels=['18-25', '26-35', '36-45', '46-55', '56-65', '66+'])\n",
    "\n",
    "plt.figure(figsize=(10, 6))\n",
    "sns.boxplot(x = 'AgeGroup', y = 'Balance', data = merged_df)\n",
    "plt.title('Boxplot of Balance by Age Group')\n",
    "plt.show()"
   ]
  },
  {
   "cell_type": "code",
   "execution_count": null,
   "metadata": {},
   "outputs": [],
   "source": [
    "# correlation between Age and EstimatedSalary\n",
    "correlation = merged_df['Age'].corr(merged_df['EstimatedSalary'], method= 'pearson')\n",
    "print(f\"The correlation between Age and EstimatedSalary is {correlation:.2f}\")     "
   ]
  },
  {
   "cell_type": "code",
   "execution_count": null,
   "metadata": {},
   "outputs": [],
   "source": [
    "# estimatedsalary distribution by Age group\n",
    "merged_df['AgeGroup'] = pd.cut(merged_df['Age'], bins=[18, 25, 35, 45, 55, 65, 100], \n",
    "                               labels=['18-25', '26-35', '36-45', '46-55', '56-65', '66+'])\n",
    "\n",
    "plt.figure(figsize=(10, 6))\n",
    "sns.boxplot(x = 'AgeGroup', y = 'EstimatedSalary', data = merged_df, color='yellow')\n",
    "plt.title('Boxplot of EstimatedSalary by Age Group')\n",
    "plt.show()"
   ]
  },
  {
   "cell_type": "code",
   "execution_count": null,
   "metadata": {},
   "outputs": [],
   "source": [
    "plt.figure(figsize=(10, 6))\n",
    "sns.boxplot(y = 'EstimatedSalary', x = 'Gender', data = merged_df, color='yellow')\n",
    "plt.title(\"Credit Score by Customer Exit Status\")\n",
    "plt.xlabel(\"Exited (0 = Stayed, 1 = Left)\")\n",
    "plt.ylabel(\"Credit Score\")\n",
    "plt.grid(True)\n",
    "plt.show()"
   ]
  },
  {
   "cell_type": "code",
   "execution_count": null,
   "metadata": {},
   "outputs": [],
   "source": [
    "merged_df.groupby('Gender')['EstimatedSalary'].describe()"
   ]
  },
  {
   "cell_type": "code",
   "execution_count": null,
   "metadata": {},
   "outputs": [],
   "source": [
    "correlation_matrix = merged_df[['Age', 'Balance', 'EstimatedSalary', 'Tenure']].corr()\n",
    "sns.heatmap(correlation_matrix, annot=True, cmap='coolwarm', center=0)"
   ]
  },
  {
   "cell_type": "code",
   "execution_count": 23,
   "metadata": {},
   "outputs": [],
   "source": [
    "merged_df.to_csv('cleanned_bank_customer.csv')"
   ]
  },
  {
   "cell_type": "markdown",
   "metadata": {},
   "source": [
    "# 🔍 EDA Insights:\n",
    "- Majority of customers (50%) are between 32-44 years old\n",
    "- The bank's typical customer appears to be middle-aged\n",
    "- There's a small but notable population of elderly customers (up to 92)\n",
    "- 0 balance: Investigate inactivity (25% of the customers!)\n",
    "- 97k–127k: Middle-class customers (likely core revenue source)\n",
    "- Above 127k: High-net-worth individuals (prioritize retention)\n",
    "- Low credit scores (e.g., <600) might be associated with higher churn risk or lesser creditworthiness\n",
    "- Bucket the credit scores into risk categories (e.g., Poor, Fair, Good, Excellent) for easier modeling or segmentation\n",
    "- Customers with low tenure may be more likely to churn, while those with higher tenure may show greater loyalty\n",
    "- Customers with fewer products may be less engaged and more likely to churn\n",
    "- Active members are less likely to churn\n",
    "- Inactive members are more likely to churn\n",
    "- Germany is a churn hotspot — the bank should investigate why\n"
   ]
  }
 ],
 "metadata": {
  "kernelspec": {
   "display_name": "Python 3",
   "language": "python",
   "name": "python3"
  },
  "language_info": {
   "codemirror_mode": {
    "name": "ipython",
    "version": 3
   },
   "file_extension": ".py",
   "mimetype": "text/x-python",
   "name": "python",
   "nbconvert_exporter": "python",
   "pygments_lexer": "ipython3",
   "version": "3.13.0"
  }
 },
 "nbformat": 4,
 "nbformat_minor": 2
}
